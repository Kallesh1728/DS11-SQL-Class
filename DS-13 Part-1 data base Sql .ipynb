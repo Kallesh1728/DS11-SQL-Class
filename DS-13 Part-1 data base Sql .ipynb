{
 "cells": [
  {
   "cell_type": "markdown",
   "id": "422a654a",
   "metadata": {},
   "source": [
    "DS Date base Sql Class-13"
   ]
  },
  {
   "cell_type": "code",
   "execution_count": 1,
   "id": "c055da98",
   "metadata": {},
   "outputs": [],
   "source": [
    "import sqlite3"
   ]
  },
  {
   "cell_type": "code",
   "execution_count": 2,
   "id": "5b3e1e90",
   "metadata": {},
   "outputs": [],
   "source": [
    "db=sqlite3.connect('my_studentdatabse2.db')"
   ]
  },
  {
   "cell_type": "code",
   "execution_count": 3,
   "id": "5c346348",
   "metadata": {},
   "outputs": [],
   "source": [
    "cur=db.cursor()"
   ]
  },
  {
   "cell_type": "code",
   "execution_count": 4,
   "id": "e1f28483",
   "metadata": {},
   "outputs": [
    {
     "name": "stdout",
     "output_type": "stream",
     "text": [
      "(1, 'Andrew', 20)\n",
      "(2, 'Smith', 19)\n",
      "(3, 'John', 22)\n",
      "(4, 'Jack', 19)\n",
      "(5, 'Lisa', 24)\n",
      "(6, 'Brain', 22)\n",
      "(7, 'William', 24)\n",
      "(8, 'Kira', 29)\n",
      "(9, 'David', 22)\n"
     ]
    }
   ],
   "source": [
    "results=cur.execute(\"select * from student\")\n",
    "\n",
    "for i in results:\n",
    "    print(i)"
   ]
  },
  {
   "cell_type": "code",
   "execution_count": 5,
   "id": "8a7f6adf",
   "metadata": {},
   "outputs": [
    {
     "name": "stdout",
     "output_type": "stream",
     "text": [
      "(1,)\n",
      "(2,)\n",
      "(3,)\n",
      "(4,)\n",
      "(5,)\n",
      "(6,)\n",
      "(7,)\n",
      "(8,)\n",
      "(9,)\n"
     ]
    }
   ],
   "source": [
    "results=cur.execute(\"select id from student\")\n",
    "\n",
    "for i in results:\n",
    "    print(i)"
   ]
  },
  {
   "cell_type": "code",
   "execution_count": 6,
   "id": "8798044e",
   "metadata": {},
   "outputs": [
    {
     "data": {
      "text/plain": [
       "(6, 'Brain', 22)"
      ]
     },
     "execution_count": 6,
     "metadata": {},
     "output_type": "execute_result"
    }
   ],
   "source": [
    "results=cur.execute(\"select * from student where id=6\")\n",
    "\n",
    "results.fetchone()"
   ]
  },
  {
   "cell_type": "markdown",
   "id": "0068a665",
   "metadata": {},
   "source": [
    "In Sql 3 category 1.Create, Alter & drop 2.select update/delete quaery 3.Commit comment"
   ]
  },
  {
   "cell_type": "markdown",
   "id": "e75374e3",
   "metadata": {},
   "source": [
    "#Update<Table-name> set<columnname>=<value> where <column>=<value>\n",
    "# update student set marks =80 where id =5"
   ]
  },
  {
   "cell_type": "markdown",
   "id": "dc4789ea",
   "metadata": {},
   "source": [
    "Update Record"
   ]
  },
  {
   "cell_type": "code",
   "execution_count": 7,
   "id": "b751eadf",
   "metadata": {},
   "outputs": [
    {
     "ename": "NameError",
     "evalue": "name 'sql' is not defined",
     "output_type": "error",
     "traceback": [
      "\u001b[1;31m---------------------------------------------------------------------------\u001b[0m",
      "\u001b[1;31mNameError\u001b[0m                                 Traceback (most recent call last)",
      "Input \u001b[1;32mIn [7]\u001b[0m, in \u001b[0;36m<cell line: 4>\u001b[1;34m()\u001b[0m\n\u001b[0;32m      1\u001b[0m \u001b[38;5;66;03m# Update the record\u001b[39;00m\n\u001b[0;32m      3\u001b[0m Sql\u001b[38;5;241m=\u001b[39m\u001b[38;5;124m\"\u001b[39m\u001b[38;5;124mupdate student set age=35 where id=4\u001b[39m\u001b[38;5;124m\"\u001b[39m\n\u001b[1;32m----> 4\u001b[0m cur\u001b[38;5;241m.\u001b[39mexecute(\u001b[43msql\u001b[49m)\n\u001b[0;32m      5\u001b[0m db\u001b[38;5;241m.\u001b[39mcommit()\n",
      "\u001b[1;31mNameError\u001b[0m: name 'sql' is not defined"
     ]
    }
   ],
   "source": [
    "# Update the record\n",
    "\n",
    "Sql=\"update student set age=35 where id=4\"\n",
    "cur.execute(sql)\n",
    "db.commit()"
   ]
  },
  {
   "cell_type": "code",
   "execution_count": 8,
   "id": "1bc6739e",
   "metadata": {},
   "outputs": [],
   "source": [
    "# Update the record\n",
    "\n",
    "sql=\"update student set age=35 where id=4\"\n",
    "cur.execute(sql)\n",
    "db.commit()"
   ]
  },
  {
   "cell_type": "code",
   "execution_count": 9,
   "id": "445b91e5",
   "metadata": {},
   "outputs": [
    {
     "name": "stdout",
     "output_type": "stream",
     "text": [
      "(4, 'Jack', 35)\n"
     ]
    }
   ],
   "source": [
    "results=cur.execute(\"select * from student where id=4\")\n",
    "for row in results:\n",
    "    print(row)"
   ]
  },
  {
   "cell_type": "code",
   "execution_count": 10,
   "id": "0cd52c80",
   "metadata": {},
   "outputs": [
    {
     "name": "stdout",
     "output_type": "stream",
     "text": [
      "(1, 'Andrew', 20)\n",
      "(2, 'Smith', 19)\n",
      "(3, 'John', 22)\n",
      "(4, 'Jack', 35)\n",
      "(5, 'Lisa', 24)\n",
      "(6, 'Brain', 22)\n",
      "(7, 'William', 24)\n",
      "(8, 'Kira', 29)\n",
      "(9, 'David', 22)\n"
     ]
    }
   ],
   "source": [
    "results=cur.execute(\"select * from student\")\n",
    "\n",
    "for i in results:\n",
    "    print(i)"
   ]
  },
  {
   "cell_type": "code",
   "execution_count": 11,
   "id": "eba4eb2a",
   "metadata": {},
   "outputs": [],
   "source": [
    "# multiple record update using 'IN'\n",
    "\n",
    "sql=\"update student set age=32 where id in (1,2)\"\n",
    "cur.execute(sql)\n",
    "db.commit()"
   ]
  },
  {
   "cell_type": "code",
   "execution_count": 12,
   "id": "81d65323",
   "metadata": {},
   "outputs": [
    {
     "name": "stdout",
     "output_type": "stream",
     "text": [
      "(1, 'Andrew', 32)\n",
      "(2, 'Smith', 32)\n",
      "(3, 'John', 22)\n",
      "(4, 'Jack', 35)\n",
      "(5, 'Lisa', 24)\n",
      "(6, 'Brain', 22)\n",
      "(7, 'William', 24)\n",
      "(8, 'Kira', 29)\n",
      "(9, 'David', 22)\n"
     ]
    }
   ],
   "source": [
    "# verify if its updated/ insted i i will sing row\n",
    "\n",
    "results=cur.execute(\"select * from student\")\n",
    "\n",
    "for row in results:\n",
    "    print(row)"
   ]
  },
  {
   "cell_type": "markdown",
   "id": "1fea47c8",
   "metadata": {},
   "source": [
    "Delete any unwanted records"
   ]
  },
  {
   "cell_type": "code",
   "execution_count": 13,
   "id": "56b41964",
   "metadata": {},
   "outputs": [
    {
     "data": {
      "text/plain": [
       "<sqlite3.Cursor at 0x29d1504cdc0>"
      ]
     },
     "execution_count": 13,
     "metadata": {},
     "output_type": "execute_result"
    }
   ],
   "source": [
    "sql=\"delete from student where id=9\"\n",
    "cur.execute(sql)"
   ]
  },
  {
   "cell_type": "code",
   "execution_count": 14,
   "id": "10cd6bb0",
   "metadata": {},
   "outputs": [
    {
     "name": "stdout",
     "output_type": "stream",
     "text": [
      "(1, 'Andrew', 32)\n",
      "(2, 'Smith', 32)\n",
      "(3, 'John', 22)\n",
      "(4, 'Jack', 35)\n",
      "(5, 'Lisa', 24)\n",
      "(6, 'Brain', 22)\n",
      "(7, 'William', 24)\n",
      "(8, 'Kira', 29)\n"
     ]
    }
   ],
   "source": [
    "results=cur.execute(\"select * from student\")\n",
    "\n",
    "for row in results:\n",
    "    print(row)"
   ]
  },
  {
   "cell_type": "markdown",
   "id": "57c61d86",
   "metadata": {},
   "source": [
    "alter table commend i will using to change the structutre of the table\n",
    "alter table<table-name>drop<column-name>\n",
    "alter student drop column marks in this way alter commnd work"
   ]
  },
  {
   "cell_type": "markdown",
   "id": "9b0be486",
   "metadata": {},
   "source": [
    "Drop table student"
   ]
  },
  {
   "cell_type": "code",
   "execution_count": 15,
   "id": "2abb8fa2",
   "metadata": {},
   "outputs": [],
   "source": [
    "sql='drop table student'\n",
    "results=cur.execute(sql)"
   ]
  },
  {
   "cell_type": "code",
   "execution_count": 16,
   "id": "e755bb04",
   "metadata": {},
   "outputs": [
    {
     "ename": "OperationalError",
     "evalue": "no such table: student",
     "output_type": "error",
     "traceback": [
      "\u001b[1;31m---------------------------------------------------------------------------\u001b[0m",
      "\u001b[1;31mOperationalError\u001b[0m                          Traceback (most recent call last)",
      "Input \u001b[1;32mIn [16]\u001b[0m, in \u001b[0;36m<cell line: 1>\u001b[1;34m()\u001b[0m\n\u001b[1;32m----> 1\u001b[0m results\u001b[38;5;241m=\u001b[39m\u001b[43mcur\u001b[49m\u001b[38;5;241;43m.\u001b[39;49m\u001b[43mexecute\u001b[49m\u001b[43m(\u001b[49m\u001b[38;5;124;43m\"\u001b[39;49m\u001b[38;5;124;43mselect * from student\u001b[39;49m\u001b[38;5;124;43m\"\u001b[39;49m\u001b[43m)\u001b[49m\n\u001b[0;32m      2\u001b[0m results\u001b[38;5;241m.\u001b[39mfetchall()\n",
      "\u001b[1;31mOperationalError\u001b[0m: no such table: student"
     ]
    }
   ],
   "source": [
    "results=cur.execute(\"select * from student\")\n",
    "results.fetchall()"
   ]
  },
  {
   "cell_type": "code",
   "execution_count": 17,
   "id": "2d2ed016",
   "metadata": {},
   "outputs": [],
   "source": [
    "# db.close() means entire student data table has been close\n",
    "\n",
    "db.close()"
   ]
  },
  {
   "cell_type": "markdown",
   "id": "1c3f90f2",
   "metadata": {},
   "source": [
    "Entire life cycle of data base-creation of data base -creation of table-insertion data inside the table-Sql inside the table-updating the data inside the table-deleting the table inside table & droping the entire data base "
   ]
  },
  {
   "cell_type": "code",
   "execution_count": null,
   "id": "bd20388b",
   "metadata": {},
   "outputs": [],
   "source": []
  }
 ],
 "metadata": {
  "kernelspec": {
   "display_name": "Python 3 (ipykernel)",
   "language": "python",
   "name": "python3"
  },
  "language_info": {
   "codemirror_mode": {
    "name": "ipython",
    "version": 3
   },
   "file_extension": ".py",
   "mimetype": "text/x-python",
   "name": "python",
   "nbconvert_exporter": "python",
   "pygments_lexer": "ipython3",
   "version": "3.9.12"
  }
 },
 "nbformat": 4,
 "nbformat_minor": 5
}
