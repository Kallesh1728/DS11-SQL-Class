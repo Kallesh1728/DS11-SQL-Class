{
 "cells": [
  {
   "cell_type": "markdown",
   "id": "aef07284",
   "metadata": {},
   "source": [
    "REFERENTIAL INTEGRITY"
   ]
  },
  {
   "cell_type": "code",
   "execution_count": 1,
   "id": "8ccc19a5",
   "metadata": {},
   "outputs": [],
   "source": [
    "import sqlite3"
   ]
  },
  {
   "cell_type": "code",
   "execution_count": 2,
   "id": "d2d7a0f6",
   "metadata": {},
   "outputs": [],
   "source": [
    "db=sqlite3.connect(\"D:/KN E D/DS/MySQLite_DataBase/student_course_database.db\")"
   ]
  },
  {
   "cell_type": "code",
   "execution_count": 3,
   "id": "259f184e",
   "metadata": {},
   "outputs": [],
   "source": [
    "cur=db.cursor()"
   ]
  },
  {
   "cell_type": "markdown",
   "id": "7200115b",
   "metadata": {},
   "source": [
    "constraints...\n",
    "unique..entry only unique value, no duplicate values\n",
    "not null..no blank values can be inserted in tables"
   ]
  },
  {
   "cell_type": "code",
   "execution_count": 4,
   "id": "045290ec",
   "metadata": {},
   "outputs": [
    {
     "data": {
      "text/plain": [
       "<sqlite3.Cursor at 0x1932b93b0a0>"
      ]
     },
     "execution_count": 4,
     "metadata": {},
     "output_type": "execute_result"
    }
   ],
   "source": [
    "cur.execute(\"create table course(courseid int primary key,coursename text,duration int)\")"
   ]
  },
  {
   "cell_type": "code",
   "execution_count": 5,
   "id": "d8537703",
   "metadata": {},
   "outputs": [
    {
     "data": {
      "text/plain": [
       "<sqlite3.Cursor at 0x1932b93b0a0>"
      ]
     },
     "execution_count": 5,
     "metadata": {},
     "output_type": "execute_result"
    }
   ],
   "source": [
    "cur.execute(\"create table student(roll_no int primary key,studentname text,age int,courseid int,foreign key(courseid) references course(courseid))\")"
   ]
  },
  {
   "cell_type": "code",
   "execution_count": 6,
   "id": "512cb867",
   "metadata": {},
   "outputs": [
    {
     "name": "stdout",
     "output_type": "stream",
     "text": [
      "3 record(s) inserted\n"
     ]
    }
   ],
   "source": [
    "cur.execute(\"insert into course values(78,'Data science',12),(56,'Python course',4),(101,'database',7)\")\n",
    "\n",
    "print(cur.rowcount,\"record(s) inserted\")\n",
    "\n",
    "db.commit;"
   ]
  },
  {
   "cell_type": "code",
   "execution_count": 7,
   "id": "4928aef2",
   "metadata": {},
   "outputs": [
    {
     "name": "stdout",
     "output_type": "stream",
     "text": [
      "4 record(s) inserted\n"
     ]
    }
   ],
   "source": [
    "cur.execute(\"insert into student values(1,'Jack',22,78),(2,'John',21,56),(3,'Rudolf',18,78),(4,'Jim',21,56)\")\n",
    "\n",
    "print(cur.rowcount,\"record(s) inserted\")\n",
    "\n",
    "db.commit;"
   ]
  },
  {
   "cell_type": "code",
   "execution_count": 8,
   "id": "072355f6",
   "metadata": {},
   "outputs": [
    {
     "ename": "NameError",
     "evalue": "name 'resuts' is not defined",
     "output_type": "error",
     "traceback": [
      "\u001b[1;31m---------------------------------------------------------------------------\u001b[0m",
      "\u001b[1;31mNameError\u001b[0m                                 Traceback (most recent call last)",
      "Input \u001b[1;32mIn [8]\u001b[0m, in \u001b[0;36m<cell line: 3>\u001b[1;34m()\u001b[0m\n\u001b[0;32m      1\u001b[0m results\u001b[38;5;241m=\u001b[39mcur\u001b[38;5;241m.\u001b[39mexecute(\u001b[38;5;124m'\u001b[39m\u001b[38;5;124mselect * from course\u001b[39m\u001b[38;5;124m'\u001b[39m)\n\u001b[1;32m----> 3\u001b[0m \u001b[43mresuts\u001b[49m\u001b[38;5;241m.\u001b[39mfetchall()\n",
      "\u001b[1;31mNameError\u001b[0m: name 'resuts' is not defined"
     ]
    }
   ],
   "source": [
    "results=cur.execute('select * from course')\n",
    "\n",
    "resuts.fetchall()"
   ]
  },
  {
   "cell_type": "code",
   "execution_count": 9,
   "id": "860fd81f",
   "metadata": {},
   "outputs": [
    {
     "data": {
      "text/plain": [
       "[(78, 'Data science', 12), (56, 'Python course', 4), (101, 'database', 7)]"
      ]
     },
     "execution_count": 9,
     "metadata": {},
     "output_type": "execute_result"
    }
   ],
   "source": [
    "results=cur.execute('select * from course')\n",
    "\n",
    "results.fetchall()"
   ]
  },
  {
   "cell_type": "code",
   "execution_count": 10,
   "id": "ce1ec2ad",
   "metadata": {},
   "outputs": [
    {
     "data": {
      "text/plain": [
       "[(1, 'Jack', 22, 78),\n",
       " (2, 'John', 21, 56),\n",
       " (3, 'Rudolf', 18, 78),\n",
       " (4, 'Jim', 21, 56)]"
      ]
     },
     "execution_count": 10,
     "metadata": {},
     "output_type": "execute_result"
    }
   ],
   "source": [
    "results=cur.execute('select * from student')\n",
    "\n",
    "results.fetchall()"
   ]
  },
  {
   "cell_type": "code",
   "execution_count": 11,
   "id": "afd0d37a",
   "metadata": {},
   "outputs": [
    {
     "ename": "OperationalError",
     "evalue": "near \"course\": syntax error",
     "output_type": "error",
     "traceback": [
      "\u001b[1;31m---------------------------------------------------------------------------\u001b[0m",
      "\u001b[1;31mOperationalError\u001b[0m                          Traceback (most recent call last)",
      "Input \u001b[1;32mIn [11]\u001b[0m, in \u001b[0;36m<cell line: 1>\u001b[1;34m()\u001b[0m\n\u001b[1;32m----> 1\u001b[0m results\u001b[38;5;241m=\u001b[39m\u001b[43mcur\u001b[49m\u001b[38;5;241;43m.\u001b[39;49m\u001b[43mexecute\u001b[49m\u001b[43m(\u001b[49m\u001b[38;5;124;43m'\u001b[39;49m\u001b[38;5;124;43mselect courseid form course where coursename=\u001b[39;49m\u001b[38;5;124;43m\"\u001b[39;49m\u001b[38;5;124;43mdata science\u001b[39;49m\u001b[38;5;124;43m\"\u001b[39;49m\u001b[38;5;124;43m'\u001b[39;49m\u001b[43m)\u001b[49m\n\u001b[0;32m      3\u001b[0m \u001b[38;5;28;01mfor\u001b[39;00m i \u001b[38;5;129;01min\u001b[39;00m results:\n\u001b[0;32m      4\u001b[0m     \u001b[38;5;28mprint\u001b[39m(i)\n",
      "\u001b[1;31mOperationalError\u001b[0m: near \"course\": syntax error"
     ]
    }
   ],
   "source": [
    "results=cur.execute('select courseid form course where coursename=\"data science\"')\n",
    "\n",
    "for i in results:\n",
    "    print(i)\n"
   ]
  },
  {
   "cell_type": "code",
   "execution_count": 12,
   "id": "3677a9f1",
   "metadata": {},
   "outputs": [],
   "source": [
    "results=cur.execute('select courseid from course where coursename=\"data science\"')\n",
    "\n",
    "for i in results:\n",
    "    print(i)"
   ]
  },
  {
   "cell_type": "code",
   "execution_count": null,
   "id": "2056a16e",
   "metadata": {},
   "outputs": [],
   "source": [
    "executed but in syntex Datascience insted data science"
   ]
  },
  {
   "cell_type": "code",
   "execution_count": 13,
   "id": "f3b500b6",
   "metadata": {},
   "outputs": [
    {
     "name": "stdout",
     "output_type": "stream",
     "text": [
      "(78,)\n"
     ]
    }
   ],
   "source": [
    "results=cur.execute('select courseid from course where coursename=\"Data science\"')\n",
    "\n",
    "for i in results:\n",
    "    print(i)"
   ]
  },
  {
   "cell_type": "markdown",
   "id": "e7a3946a",
   "metadata": {},
   "source": [
    "Subquery"
   ]
  },
  {
   "cell_type": "code",
   "execution_count": 16,
   "id": "39ec51c7",
   "metadata": {},
   "outputs": [
    {
     "name": "stdout",
     "output_type": "stream",
     "text": [
      "(1, 'Jack', 22, 78)\n",
      "(3, 'Rudolf', 18, 78)\n"
     ]
    }
   ],
   "source": [
    "results=cur.execute('select * from student where courseid=(select courseid from course where coursename=\"Data science\")')\n",
    "\n",
    "for i in results:\n",
    "    print(i)"
   ]
  },
  {
   "cell_type": "code",
   "execution_count": 18,
   "id": "ad4acdef",
   "metadata": {},
   "outputs": [
    {
     "name": "stdout",
     "output_type": "stream",
     "text": [
      "(2, 'John', 21, 56)\n",
      "(4, 'Jim', 21, 56)\n"
     ]
    }
   ],
   "source": [
    "results=cur.execute('select * from student where courseid=(select courseid from course where coursename=\"Python course\")')\n",
    "\n",
    "for i in results:\n",
    "    print(i)"
   ]
  },
  {
   "cell_type": "markdown",
   "id": "31fd9027",
   "metadata": {},
   "source": [
    "INNER JOIN"
   ]
  },
  {
   "cell_type": "code",
   "execution_count": 19,
   "id": "59bb8d2d",
   "metadata": {},
   "outputs": [
    {
     "name": "stdout",
     "output_type": "stream",
     "text": [
      "(1, 'Jack', 78, 'Data science')\n",
      "(2, 'John', 56, 'Python course')\n",
      "(3, 'Rudolf', 78, 'Data science')\n",
      "(4, 'Jim', 56, 'Python course')\n"
     ]
    }
   ],
   "source": [
    "sql = \"SELECT student.roll_no, studentname, course.courseid, course.coursename FROM student INNER JOIN course ON student.courseid = course.courseid\"\n",
    "results = cur.execute(sql)\n",
    "for row in results:\n",
    "    print(row)"
   ]
  },
  {
   "cell_type": "code",
   "execution_count": 20,
   "id": "26698b48",
   "metadata": {},
   "outputs": [
    {
     "name": "stdout",
     "output_type": "stream",
     "text": [
      "(1, 'Jack', 78, 'Data science')\n",
      "(2, 'John', 56, 'Python course')\n",
      "(3, 'Rudolf', 78, 'Data science')\n",
      "(4, 'Jim', 56, 'Python course')\n"
     ]
    }
   ],
   "source": [
    "sql = \"SELECT student.roll_no, studentname, course.courseid, course.coursename FROM student LEFT JOIN course ON student.courseid = course.courseid\"\n",
    "results = cur.execute(sql)\n",
    "for row in results:\n",
    "    print(row)"
   ]
  },
  {
   "cell_type": "code",
   "execution_count": 21,
   "id": "376f72f4",
   "metadata": {},
   "outputs": [
    {
     "ename": "OperationalError",
     "evalue": "RIGHT and FULL OUTER JOINs are not currently supported",
     "output_type": "error",
     "traceback": [
      "\u001b[1;31m---------------------------------------------------------------------------\u001b[0m",
      "\u001b[1;31mOperationalError\u001b[0m                          Traceback (most recent call last)",
      "Input \u001b[1;32mIn [21]\u001b[0m, in \u001b[0;36m<cell line: 2>\u001b[1;34m()\u001b[0m\n\u001b[0;32m      1\u001b[0m sql \u001b[38;5;241m=\u001b[39m \u001b[38;5;124m\"\u001b[39m\u001b[38;5;124mSELECT student.roll_no, studentname, course.courseid, course.coursename FROM student RIGHT JOIN course ON student.courseid = course.courseid\u001b[39m\u001b[38;5;124m\"\u001b[39m\n\u001b[1;32m----> 2\u001b[0m results \u001b[38;5;241m=\u001b[39m \u001b[43mcur\u001b[49m\u001b[38;5;241;43m.\u001b[39;49m\u001b[43mexecute\u001b[49m\u001b[43m(\u001b[49m\u001b[43msql\u001b[49m\u001b[43m)\u001b[49m\n\u001b[0;32m      3\u001b[0m \u001b[38;5;28;01mfor\u001b[39;00m row \u001b[38;5;129;01min\u001b[39;00m results:\n\u001b[0;32m      4\u001b[0m     \u001b[38;5;28mprint\u001b[39m(row)\n",
      "\u001b[1;31mOperationalError\u001b[0m: RIGHT and FULL OUTER JOINs are not currently supported"
     ]
    }
   ],
   "source": [
    "sql = \"SELECT student.roll_no, studentname, course.courseid, course.coursename FROM student RIGHT JOIN course ON student.courseid = course.courseid\"\n",
    "results = cur.execute(sql)\n",
    "for row in results:\n",
    "    print(row)"
   ]
  },
  {
   "cell_type": "code",
   "execution_count": 22,
   "id": "a23e5b20",
   "metadata": {},
   "outputs": [
    {
     "ename": "OperationalError",
     "evalue": "ambiguous column name: student.roll_no",
     "output_type": "error",
     "traceback": [
      "\u001b[1;31m---------------------------------------------------------------------------\u001b[0m",
      "\u001b[1;31mOperationalError\u001b[0m                          Traceback (most recent call last)",
      "Input \u001b[1;32mIn [22]\u001b[0m, in \u001b[0;36m<cell line: 2>\u001b[1;34m()\u001b[0m\n\u001b[0;32m      1\u001b[0m sql \u001b[38;5;241m=\u001b[39m \u001b[38;5;124m\"\u001b[39m\u001b[38;5;124mSELECT student.roll_no, studentname, course.courseid, course.coursename FROM student LEFT JOIN student ON student.courseid = course.courseid\u001b[39m\u001b[38;5;124m\"\u001b[39m\n\u001b[1;32m----> 2\u001b[0m results \u001b[38;5;241m=\u001b[39m \u001b[43mcur\u001b[49m\u001b[38;5;241;43m.\u001b[39;49m\u001b[43mexecute\u001b[49m\u001b[43m(\u001b[49m\u001b[43msql\u001b[49m\u001b[43m)\u001b[49m\n\u001b[0;32m      3\u001b[0m \u001b[38;5;28;01mfor\u001b[39;00m row \u001b[38;5;129;01min\u001b[39;00m results:\n\u001b[0;32m      4\u001b[0m     \u001b[38;5;28mprint\u001b[39m(row)\n",
      "\u001b[1;31mOperationalError\u001b[0m: ambiguous column name: student.roll_no"
     ]
    }
   ],
   "source": [
    "sql = \"SELECT student.roll_no, studentname, course.courseid, course.coursename FROM student LEFT JOIN student ON student.courseid = course.courseid\"\n",
    "results = cur.execute(sql)\n",
    "for row in results:\n",
    "    print(row)"
   ]
  },
  {
   "cell_type": "markdown",
   "id": "570c167c",
   "metadata": {},
   "source": [
    "right the above commend correctly"
   ]
  },
  {
   "cell_type": "code",
   "execution_count": 23,
   "id": "a8e10602",
   "metadata": {},
   "outputs": [
    {
     "name": "stdout",
     "output_type": "stream",
     "text": [
      "(1, 'Jack', 78, 'Data science')\n",
      "(3, 'Rudolf', 78, 'Data science')\n",
      "(2, 'John', 56, 'Python course')\n",
      "(4, 'Jim', 56, 'Python course')\n",
      "(None, None, 101, 'database')\n"
     ]
    }
   ],
   "source": [
    " sql = \"SELECT student.roll_no, studentname, course.courseid, course.coursename FROM course LEFT JOIN student ON student.courseid = course.courseid\"\n",
    "results = cur.execute(sql)\n",
    "for row in results:\n",
    "    print(row)"
   ]
  },
  {
   "cell_type": "markdown",
   "id": "428e63c2",
   "metadata": {},
   "source": [
    "RIGHT and FULL OUTER JOINs are not currently supported in Sqlite3"
   ]
  },
  {
   "cell_type": "code",
   "execution_count": null,
   "id": "864d1973",
   "metadata": {},
   "outputs": [],
   "source": []
  }
 ],
 "metadata": {
  "kernelspec": {
   "display_name": "Python 3 (ipykernel)",
   "language": "python",
   "name": "python3"
  },
  "language_info": {
   "codemirror_mode": {
    "name": "ipython",
    "version": 3
   },
   "file_extension": ".py",
   "mimetype": "text/x-python",
   "name": "python",
   "nbconvert_exporter": "python",
   "pygments_lexer": "ipython3",
   "version": "3.9.12"
  }
 },
 "nbformat": 4,
 "nbformat_minor": 5
}
