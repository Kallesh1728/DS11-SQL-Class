{
 "cells": [
  {
   "cell_type": "markdown",
   "id": "2cc65f80",
   "metadata": {},
   "source": [
    "DS Data base SQl class-12"
   ]
  },
  {
   "cell_type": "code",
   "execution_count": 1,
   "id": "fbb8185c",
   "metadata": {},
   "outputs": [],
   "source": [
    "import sqlite3"
   ]
  },
  {
   "cell_type": "code",
   "execution_count": 2,
   "id": "99487500",
   "metadata": {},
   "outputs": [],
   "source": [
    "db=sqlite3.connect('my_studentdatabse2.db')"
   ]
  },
  {
   "cell_type": "code",
   "execution_count": 3,
   "id": "fcb8f3b0",
   "metadata": {},
   "outputs": [],
   "source": [
    "cur=db.cursor()"
   ]
  },
  {
   "cell_type": "code",
   "execution_count": 4,
   "id": "b5461fc8",
   "metadata": {},
   "outputs": [
    {
     "name": "stdout",
     "output_type": "stream",
     "text": [
      "(1, 'Andrew', 20)\n",
      "(2, 'Smith', 19)\n",
      "(3, 'John', 22)\n",
      "(4, 'Jack', 19)\n",
      "(5, 'Lisa', 24)\n",
      "(6, 'Brain', 22)\n",
      "(7, 'William', 24)\n"
     ]
    }
   ],
   "source": [
    "results=cur.execute(\"select * from student\")\n",
    "\n",
    "for i in results:\n",
    "    print(i)"
   ]
  },
  {
   "cell_type": "code",
   "execution_count": 5,
   "id": "4bbaf09a",
   "metadata": {},
   "outputs": [
    {
     "name": "stdout",
     "output_type": "stream",
     "text": [
      "(1,)\n",
      "(2,)\n",
      "(3,)\n",
      "(4,)\n",
      "(5,)\n",
      "(6,)\n",
      "(7,)\n"
     ]
    }
   ],
   "source": [
    "results=cur.execute(\"select id from student\")\n",
    "\n",
    "for i in results:\n",
    "    print(i)"
   ]
  },
  {
   "cell_type": "code",
   "execution_count": 6,
   "id": "fa20a8de",
   "metadata": {},
   "outputs": [
    {
     "name": "stdout",
     "output_type": "stream",
     "text": [
      "2 record(s) inserted\n"
     ]
    }
   ],
   "source": [
    "cur.execute(\"insert into student values (8,'Kira',29),(9,'David',22)\")\n",
    "\n",
    "db.commit()\n",
    "print(cur.rowcount,\"record(s) inserted\")"
   ]
  },
  {
   "cell_type": "code",
   "execution_count": 8,
   "id": "c61206d3",
   "metadata": {},
   "outputs": [
    {
     "data": {
      "text/plain": [
       "[(1, 'Andrew', 20),\n",
       " (2, 'Smith', 19),\n",
       " (3, 'John', 22),\n",
       " (4, 'Jack', 19),\n",
       " (5, 'Lisa', 24),\n",
       " (6, 'Brain', 22),\n",
       " (7, 'William', 24),\n",
       " (8, 'Kira', 29),\n",
       " (9, 'David', 22)]"
      ]
     },
     "execution_count": 8,
     "metadata": {},
     "output_type": "execute_result"
    }
   ],
   "source": [
    "results=cur.execute(\"select * from student\")\n",
    "\n",
    "results.fetchall()"
   ]
  },
  {
   "cell_type": "code",
   "execution_count": 12,
   "id": "67f83269",
   "metadata": {},
   "outputs": [
    {
     "data": {
      "text/plain": [
       "[(1, 'Andrew', 20),\n",
       " (2, 'Smith', 19),\n",
       " (3, 'John', 22),\n",
       " (4, 'Jack', 19),\n",
       " (5, 'Lisa', 24),\n",
       " (6, 'Brain', 22),\n",
       " (7, 'William', 24),\n",
       " (8, 'Kira', 29),\n",
       " (9, 'David', 22)]"
      ]
     },
     "execution_count": 12,
     "metadata": {},
     "output_type": "execute_result"
    }
   ],
   "source": [
    "results=cur.execute(\"select * from student\")\n",
    "\n",
    "results.fetchall()"
   ]
  },
  {
   "cell_type": "code",
   "execution_count": 13,
   "id": "21293a07",
   "metadata": {},
   "outputs": [
    {
     "data": {
      "text/plain": [
       "[(2, 'Smith', 19)]"
      ]
     },
     "execution_count": 13,
     "metadata": {},
     "output_type": "execute_result"
    }
   ],
   "source": [
    "results=cur.execute(\"select * from student where id=2\")\n",
    "\n",
    "results.fetchall()"
   ]
  },
  {
   "cell_type": "code",
   "execution_count": 14,
   "id": "27894ea2",
   "metadata": {},
   "outputs": [
    {
     "data": {
      "text/plain": [
       "(2, 'Smith', 19)"
      ]
     },
     "execution_count": 14,
     "metadata": {},
     "output_type": "execute_result"
    }
   ],
   "source": [
    "results=cur.execute(\"select * from student where id=2\")\n",
    "\n",
    "results.fetchone()"
   ]
  },
  {
   "cell_type": "code",
   "execution_count": 15,
   "id": "6d4a84bb",
   "metadata": {},
   "outputs": [
    {
     "data": {
      "text/plain": [
       "(6, 'Brain', 22)"
      ]
     },
     "execution_count": 15,
     "metadata": {},
     "output_type": "execute_result"
    }
   ],
   "source": [
    "results=cur.execute(\"select * from student where id=6\")\n",
    "\n",
    "results.fetchone()"
   ]
  },
  {
   "cell_type": "code",
   "execution_count": 16,
   "id": "4a669991",
   "metadata": {},
   "outputs": [
    {
     "data": {
      "text/plain": [
       "[(1, 'Andrew', 20),\n",
       " (2, 'Smith', 19),\n",
       " (3, 'John', 22),\n",
       " (4, 'Jack', 19),\n",
       " (5, 'Lisa', 24),\n",
       " (6, 'Brain', 22),\n",
       " (7, 'William', 24),\n",
       " (9, 'David', 22)]"
      ]
     },
     "execution_count": 16,
     "metadata": {},
     "output_type": "execute_result"
    }
   ],
   "source": [
    "results=cur.execute(\"select * from student where age < 25\")\n",
    "\n",
    "results.fetchall()"
   ]
  },
  {
   "cell_type": "markdown",
   "id": "ea759246",
   "metadata": {},
   "source": [
    "# in operator"
   ]
  },
  {
   "cell_type": "code",
   "execution_count": 17,
   "id": "53ec8888",
   "metadata": {},
   "outputs": [
    {
     "name": "stdout",
     "output_type": "stream",
     "text": [
      "(3, 'John', 22)\n",
      "(5, 'Lisa', 24)\n",
      "(6, 'Brain', 22)\n"
     ]
    }
   ],
   "source": [
    "results=cur.execute(\"select * from student where id in (5,6,3)\")\n",
    "\n",
    "for i in results:\n",
    "    print(i)"
   ]
  },
  {
   "cell_type": "code",
   "execution_count": 18,
   "id": "1c89bb02",
   "metadata": {},
   "outputs": [
    {
     "name": "stdout",
     "output_type": "stream",
     "text": [
      "(5, 'Lisa', 24)\n",
      "(7, 'William', 24)\n"
     ]
    }
   ],
   "source": [
    "results=cur.execute(\"select * from student where age=24\")\n",
    "\n",
    "for i in results:\n",
    "    print(i)"
   ]
  },
  {
   "cell_type": "markdown",
   "id": "bf703a3d",
   "metadata": {},
   "source": [
    "insted age you will use marks"
   ]
  },
  {
   "cell_type": "code",
   "execution_count": 19,
   "id": "689c0aa4",
   "metadata": {},
   "outputs": [
    {
     "name": "stdout",
     "output_type": "stream",
     "text": [
      "(1, 'Andrew', 20)\n",
      "(2, 'Smith', 19)\n",
      "(4, 'Jack', 19)\n",
      "(5, 'Lisa', 24)\n",
      "(7, 'William', 24)\n"
     ]
    }
   ],
   "source": [
    "results=cur.execute(\"select * from student where age in (19,20,24)\")\n",
    "\n",
    "for i in results:\n",
    "    print(i)"
   ]
  },
  {
   "cell_type": "markdown",
   "id": "0abc8eac",
   "metadata": {},
   "source": [
    "NOT operator"
   ]
  },
  {
   "cell_type": "code",
   "execution_count": 20,
   "id": "3a2cb54c",
   "metadata": {},
   "outputs": [
    {
     "ename": "OperationalError",
     "evalue": "near \"(\": syntax error",
     "output_type": "error",
     "traceback": [
      "\u001b[1;31m---------------------------------------------------------------------------\u001b[0m",
      "\u001b[1;31mOperationalError\u001b[0m                          Traceback (most recent call last)",
      "Input \u001b[1;32mIn [20]\u001b[0m, in \u001b[0;36m<cell line: 1>\u001b[1;34m()\u001b[0m\n\u001b[1;32m----> 1\u001b[0m results\u001b[38;5;241m=\u001b[39m\u001b[43mcur\u001b[49m\u001b[38;5;241;43m.\u001b[39;49m\u001b[43mexecute\u001b[49m\u001b[43m(\u001b[49m\u001b[38;5;124;43m\"\u001b[39;49m\u001b[38;5;124;43mselect * from student where id NOT (4,5)\u001b[39;49m\u001b[38;5;124;43m\"\u001b[39;49m\u001b[43m)\u001b[49m\n\u001b[0;32m      3\u001b[0m \u001b[38;5;28;01mfor\u001b[39;00m i \u001b[38;5;129;01min\u001b[39;00m results:\n\u001b[0;32m      4\u001b[0m     \u001b[38;5;28mprint\u001b[39m(i)\n",
      "\u001b[1;31mOperationalError\u001b[0m: near \"(\": syntax error"
     ]
    }
   ],
   "source": [
    "results=cur.execute(\"select * from student where id NOT (4,5)\")\n",
    "\n",
    "for i in results:\n",
    "    print(i)"
   ]
  },
  {
   "cell_type": "code",
   "execution_count": 21,
   "id": "f95806da",
   "metadata": {},
   "outputs": [
    {
     "name": "stdout",
     "output_type": "stream",
     "text": [
      "(1, 'Andrew', 20)\n",
      "(2, 'Smith', 19)\n",
      "(3, 'John', 22)\n",
      "(6, 'Brain', 22)\n",
      "(7, 'William', 24)\n",
      "(8, 'Kira', 29)\n",
      "(9, 'David', 22)\n"
     ]
    }
   ],
   "source": [
    "results=cur.execute(\"select * from student where id NOT in (4,5)\")\n",
    "\n",
    "for i in results:\n",
    "    print(i)"
   ]
  },
  {
   "cell_type": "code",
   "execution_count": 22,
   "id": "c3d5ce17",
   "metadata": {},
   "outputs": [
    {
     "name": "stdout",
     "output_type": "stream",
     "text": [
      "(1, 'Andrew', 20)\n",
      "(2, 'Smith', 19)\n",
      "(3, 'John', 22)\n"
     ]
    }
   ],
   "source": [
    "results=cur.execute(\"select * from student where id in (1,2,3)\")\n",
    "\n",
    "for i in results:\n",
    "    print(i)"
   ]
  },
  {
   "cell_type": "code",
   "execution_count": 23,
   "id": "852bfda1",
   "metadata": {},
   "outputs": [
    {
     "name": "stdout",
     "output_type": "stream",
     "text": [
      "(4, 'Jack', 19)\n",
      "(5, 'Lisa', 24)\n",
      "(6, 'Brain', 22)\n",
      "(7, 'William', 24)\n",
      "(8, 'Kira', 29)\n",
      "(9, 'David', 22)\n"
     ]
    }
   ],
   "source": [
    "results=cur.execute(\"select * from student where id NOT in (1,2,3)\")\n",
    "\n",
    "for i in results:\n",
    "    print(i)"
   ]
  },
  {
   "cell_type": "markdown",
   "id": "96e0e8ba",
   "metadata": {},
   "source": [
    "and operator"
   ]
  },
  {
   "cell_type": "code",
   "execution_count": 24,
   "id": "74d01d40",
   "metadata": {},
   "outputs": [
    {
     "name": "stdout",
     "output_type": "stream",
     "text": [
      "(1, 'Andrew', 20)\n",
      "(3, 'John', 22)\n",
      "(5, 'Lisa', 24)\n",
      "(6, 'Brain', 22)\n",
      "(7, 'William', 24)\n",
      "(9, 'David', 22)\n"
     ]
    }
   ],
   "source": [
    "results=cur.execute(\"select * from student where age>19 and age<25\")\n",
    "\n",
    "for i in results:\n",
    "    print(i)"
   ]
  },
  {
   "cell_type": "code",
   "execution_count": 25,
   "id": "f0035703",
   "metadata": {},
   "outputs": [],
   "source": [
    "results=cur.execute(\"select * from student where age>25 and age<29\")\n",
    "\n",
    "for i in results:\n",
    "    print(i)"
   ]
  },
  {
   "cell_type": "code",
   "execution_count": 26,
   "id": "aac0a608",
   "metadata": {},
   "outputs": [
    {
     "name": "stdout",
     "output_type": "stream",
     "text": [
      "(8, 'Kira', 29)\n"
     ]
    }
   ],
   "source": [
    "results=cur.execute(\"select * from student where age>25 and age<30\")\n",
    "\n",
    "for i in results:\n",
    "    print(i)"
   ]
  },
  {
   "cell_type": "code",
   "execution_count": 27,
   "id": "bcc73470",
   "metadata": {},
   "outputs": [
    {
     "name": "stdout",
     "output_type": "stream",
     "text": [
      "(8, 'Kira', 29)\n"
     ]
    }
   ],
   "source": [
    "results=cur.execute(\"select * from student where age>=25 and age<=29\")\n",
    "\n",
    "for i in results:\n",
    "    print(i)"
   ]
  },
  {
   "cell_type": "code",
   "execution_count": 34,
   "id": "6eaccb26",
   "metadata": {},
   "outputs": [
    {
     "name": "stdout",
     "output_type": "stream",
     "text": [
      "(1, 'Andrew', 20)\n"
     ]
    }
   ],
   "source": [
    "results=cur.execute(\"select * from student where id=1 and name='Andrew'\")\n",
    "\n",
    "for i in results:\n",
    "    print(i)"
   ]
  },
  {
   "cell_type": "code",
   "execution_count": 35,
   "id": "3040b2c9",
   "metadata": {},
   "outputs": [
    {
     "ename": "OperationalError",
     "evalue": "no such function: id",
     "output_type": "error",
     "traceback": [
      "\u001b[1;31m---------------------------------------------------------------------------\u001b[0m",
      "\u001b[1;31mOperationalError\u001b[0m                          Traceback (most recent call last)",
      "Input \u001b[1;32mIn [35]\u001b[0m, in \u001b[0;36m<cell line: 1>\u001b[1;34m()\u001b[0m\n\u001b[1;32m----> 1\u001b[0m results\u001b[38;5;241m=\u001b[39m\u001b[43mcur\u001b[49m\u001b[38;5;241;43m.\u001b[39;49m\u001b[43mexecute\u001b[49m\u001b[43m(\u001b[49m\u001b[38;5;124;43m\"\u001b[39;49m\u001b[38;5;124;43mselect * from student where age<25 and id(1,2,3)\u001b[39;49m\u001b[38;5;124;43m\"\u001b[39;49m\u001b[43m)\u001b[49m\n\u001b[0;32m      3\u001b[0m \u001b[38;5;28;01mfor\u001b[39;00m i \u001b[38;5;129;01min\u001b[39;00m results:\n\u001b[0;32m      4\u001b[0m     \u001b[38;5;28mprint\u001b[39m(i)\n",
      "\u001b[1;31mOperationalError\u001b[0m: no such function: id"
     ]
    }
   ],
   "source": [
    "results=cur.execute(\"select * from student where age<25 and id(1,2,3)\")\n",
    "\n",
    "for i in results:\n",
    "    print(i)"
   ]
  },
  {
   "cell_type": "code",
   "execution_count": 36,
   "id": "8f64b15f",
   "metadata": {},
   "outputs": [
    {
     "ename": "OperationalError",
     "evalue": "no such function: id",
     "output_type": "error",
     "traceback": [
      "\u001b[1;31m---------------------------------------------------------------------------\u001b[0m",
      "\u001b[1;31mOperationalError\u001b[0m                          Traceback (most recent call last)",
      "Input \u001b[1;32mIn [36]\u001b[0m, in \u001b[0;36m<cell line: 1>\u001b[1;34m()\u001b[0m\n\u001b[1;32m----> 1\u001b[0m results\u001b[38;5;241m=\u001b[39m\u001b[43mcur\u001b[49m\u001b[38;5;241;43m.\u001b[39;49m\u001b[43mexecute\u001b[49m\u001b[43m(\u001b[49m\u001b[38;5;124;43m\"\u001b[39;49m\u001b[38;5;124;43mselect * from student where age<24 and id(5,6,7)\u001b[39;49m\u001b[38;5;124;43m\"\u001b[39;49m\u001b[43m)\u001b[49m\n\u001b[0;32m      3\u001b[0m \u001b[38;5;28;01mfor\u001b[39;00m i \u001b[38;5;129;01min\u001b[39;00m results:\n\u001b[0;32m      4\u001b[0m     \u001b[38;5;28mprint\u001b[39m(i)\n",
      "\u001b[1;31mOperationalError\u001b[0m: no such function: id"
     ]
    }
   ],
   "source": [
    "results=cur.execute(\"select * from student where age<24 and id(5,6,7)\")\n",
    "\n",
    "for i in results:\n",
    "    print(i)"
   ]
  },
  {
   "cell_type": "code",
   "execution_count": 37,
   "id": "c7959e73",
   "metadata": {},
   "outputs": [
    {
     "name": "stdout",
     "output_type": "stream",
     "text": [
      "(6, 'Brain', 22)\n"
     ]
    }
   ],
   "source": [
    "results=cur.execute(\"select * from student where age<24 and id in(5,6,7)\")\n",
    "\n",
    "for i in results:\n",
    "    print(i)"
   ]
  },
  {
   "cell_type": "markdown",
   "id": "77958b3f",
   "metadata": {},
   "source": [
    "or operator"
   ]
  },
  {
   "cell_type": "code",
   "execution_count": 28,
   "id": "49e3b62d",
   "metadata": {},
   "outputs": [
    {
     "name": "stdout",
     "output_type": "stream",
     "text": [
      "(1, 'Andrew', 20)\n",
      "(2, 'Smith', 19)\n",
      "(3, 'John', 22)\n",
      "(4, 'Jack', 19)\n",
      "(5, 'Lisa', 24)\n",
      "(6, 'Brain', 22)\n",
      "(7, 'William', 24)\n",
      "(8, 'Kira', 29)\n",
      "(9, 'David', 22)\n"
     ]
    }
   ],
   "source": [
    "results=cur.execute(\"select * from student where age>19 or age<25\")\n",
    "\n",
    "for i in results:\n",
    "    print(i)"
   ]
  },
  {
   "cell_type": "code",
   "execution_count": 29,
   "id": "531dfe89",
   "metadata": {},
   "outputs": [
    {
     "name": "stdout",
     "output_type": "stream",
     "text": [
      "(2, 'Smith', 19)\n",
      "(4, 'Jack', 19)\n"
     ]
    }
   ],
   "source": [
    "results=cur.execute(\"select * from student where age=19 or age=25\")\n",
    "\n",
    "for i in results:\n",
    "    print(i)"
   ]
  },
  {
   "cell_type": "code",
   "execution_count": 30,
   "id": "7a801757",
   "metadata": {},
   "outputs": [
    {
     "name": "stdout",
     "output_type": "stream",
     "text": [
      "(2, 'Smith', 19)\n",
      "(4, 'Jack', 19)\n",
      "(8, 'Kira', 29)\n"
     ]
    }
   ],
   "source": [
    "results=cur.execute(\"select * from student where age=19 or age=29\")\n",
    "\n",
    "for i in results:\n",
    "    print(i)"
   ]
  },
  {
   "cell_type": "code",
   "execution_count": 31,
   "id": "e1634aec",
   "metadata": {},
   "outputs": [
    {
     "name": "stdout",
     "output_type": "stream",
     "text": [
      "(1, 'Andrew', 20)\n",
      "(2, 'Smith', 19)\n",
      "(3, 'John', 22)\n",
      "(4, 'Jack', 19)\n",
      "(5, 'Lisa', 24)\n",
      "(6, 'Brain', 22)\n",
      "(7, 'William', 24)\n",
      "(8, 'Kira', 29)\n",
      "(9, 'David', 22)\n"
     ]
    }
   ],
   "source": [
    "results=cur.execute(\"select * from student where age>=19 or age<=29\")\n",
    "\n",
    "for i in results:\n",
    "    print(i)"
   ]
  },
  {
   "cell_type": "code",
   "execution_count": 32,
   "id": "66ca0bd2",
   "metadata": {},
   "outputs": [
    {
     "name": "stdout",
     "output_type": "stream",
     "text": [
      "(5, 'Lisa', 24)\n",
      "(7, 'William', 24)\n",
      "(8, 'Kira', 29)\n"
     ]
    }
   ],
   "source": [
    "results=cur.execute(\"select * from student where age=24 or id=8\")\n",
    "\n",
    "for i in results:\n",
    "    print(i)"
   ]
  },
  {
   "cell_type": "code",
   "execution_count": 33,
   "id": "d387b9ed",
   "metadata": {},
   "outputs": [
    {
     "name": "stdout",
     "output_type": "stream",
     "text": [
      "(2, 'Smith', 19)\n",
      "(4, 'Jack', 19)\n",
      "(6, 'Brain', 22)\n"
     ]
    }
   ],
   "source": [
    "results=cur.execute(\"select * from student where age=19 or id=6\")\n",
    "\n",
    "for i in results:\n",
    "    print(i)"
   ]
  },
  {
   "cell_type": "code",
   "execution_count": 38,
   "id": "496c655d",
   "metadata": {},
   "outputs": [
    {
     "name": "stdout",
     "output_type": "stream",
     "text": [
      "(1, 'Andrew', 20)\n",
      "(2, 'Smith', 19)\n",
      "(3, 'John', 22)\n",
      "(4, 'Jack', 19)\n",
      "(5, 'Lisa', 24)\n",
      "(6, 'Brain', 22)\n",
      "(7, 'William', 24)\n",
      "(8, 'Kira', 29)\n",
      "(9, 'David', 22)\n"
     ]
    }
   ],
   "source": [
    "results=cur.execute(\"select * from student\")\n",
    "\n",
    "for i in results:\n",
    "    print(i)"
   ]
  },
  {
   "cell_type": "markdown",
   "id": "2de4da78",
   "metadata": {},
   "source": [
    "asending order and desdending oder"
   ]
  },
  {
   "cell_type": "code",
   "execution_count": 39,
   "id": "9d55d50f",
   "metadata": {},
   "outputs": [
    {
     "name": "stdout",
     "output_type": "stream",
     "text": [
      "(1, 'Andrew', 20)\n",
      "(6, 'Brain', 22)\n",
      "(9, 'David', 22)\n",
      "(4, 'Jack', 19)\n",
      "(3, 'John', 22)\n",
      "(8, 'Kira', 29)\n",
      "(5, 'Lisa', 24)\n",
      "(2, 'Smith', 19)\n",
      "(7, 'William', 24)\n"
     ]
    }
   ],
   "source": [
    "results=cur.execute(\"select * from student order by name asc\")\n",
    "\n",
    "for i in results:\n",
    "    print(i)"
   ]
  },
  {
   "cell_type": "code",
   "execution_count": 40,
   "id": "b3d703d3",
   "metadata": {},
   "outputs": [
    {
     "name": "stdout",
     "output_type": "stream",
     "text": [
      "(7, 'William', 24)\n",
      "(2, 'Smith', 19)\n",
      "(5, 'Lisa', 24)\n",
      "(8, 'Kira', 29)\n",
      "(3, 'John', 22)\n",
      "(4, 'Jack', 19)\n",
      "(9, 'David', 22)\n",
      "(6, 'Brain', 22)\n",
      "(1, 'Andrew', 20)\n"
     ]
    }
   ],
   "source": [
    "results=cur.execute(\"select * from student order by name desc\")\n",
    "\n",
    "for i in results:\n",
    "    print(i)"
   ]
  },
  {
   "cell_type": "code",
   "execution_count": 41,
   "id": "319e40d4",
   "metadata": {},
   "outputs": [
    {
     "name": "stdout",
     "output_type": "stream",
     "text": [
      "(8, 'Kira', 29)\n",
      "(5, 'Lisa', 24)\n",
      "(7, 'William', 24)\n",
      "(3, 'John', 22)\n",
      "(6, 'Brain', 22)\n",
      "(9, 'David', 22)\n",
      "(1, 'Andrew', 20)\n",
      "(2, 'Smith', 19)\n",
      "(4, 'Jack', 19)\n"
     ]
    }
   ],
   "source": [
    "results=cur.execute(\"select * from student order by age desc\")\n",
    "\n",
    "for i in results:\n",
    "    print(i)"
   ]
  },
  {
   "cell_type": "markdown",
   "id": "cf265c13",
   "metadata": {},
   "source": [
    "Beter to use for loop beter you can eliminate data easily (for i in results:)\n",
    "                                                               print(i)              insted fechall"
   ]
  },
  {
   "cell_type": "code",
   "execution_count": 42,
   "id": "291bedd6",
   "metadata": {},
   "outputs": [
    {
     "name": "stdout",
     "output_type": "stream",
     "text": [
      "(20,)\n",
      "(19,)\n",
      "(22,)\n",
      "(19,)\n",
      "(24,)\n",
      "(22,)\n",
      "(24,)\n",
      "(29,)\n",
      "(22,)\n"
     ]
    }
   ],
   "source": [
    "results=cur.execute(\"select age from student\")\n",
    "\n",
    "for i in results:\n",
    "    print(i)"
   ]
  },
  {
   "cell_type": "code",
   "execution_count": 43,
   "id": "bc516c6a",
   "metadata": {},
   "outputs": [
    {
     "ename": "OperationalError",
     "evalue": "no such function: mim",
     "output_type": "error",
     "traceback": [
      "\u001b[1;31m---------------------------------------------------------------------------\u001b[0m",
      "\u001b[1;31mOperationalError\u001b[0m                          Traceback (most recent call last)",
      "Input \u001b[1;32mIn [43]\u001b[0m, in \u001b[0;36m<cell line: 1>\u001b[1;34m()\u001b[0m\n\u001b[1;32m----> 1\u001b[0m results\u001b[38;5;241m=\u001b[39m\u001b[43mcur\u001b[49m\u001b[38;5;241;43m.\u001b[39;49m\u001b[43mexecute\u001b[49m\u001b[43m(\u001b[49m\u001b[38;5;124;43m\"\u001b[39;49m\u001b[38;5;124;43mselect mim(age) from student\u001b[39;49m\u001b[38;5;124;43m\"\u001b[39;49m\u001b[43m)\u001b[49m\n\u001b[0;32m      3\u001b[0m \u001b[38;5;28;01mfor\u001b[39;00m i \u001b[38;5;129;01min\u001b[39;00m results:\n\u001b[0;32m      4\u001b[0m     \u001b[38;5;28mprint\u001b[39m(i)\n",
      "\u001b[1;31mOperationalError\u001b[0m: no such function: mim"
     ]
    }
   ],
   "source": [
    "results=cur.execute(\"select mim(age) from student\")\n",
    "\n",
    "for i in results:\n",
    "    print(i)"
   ]
  },
  {
   "cell_type": "code",
   "execution_count": 44,
   "id": "525a3502",
   "metadata": {},
   "outputs": [
    {
     "name": "stdout",
     "output_type": "stream",
     "text": [
      "(19,)\n"
     ]
    }
   ],
   "source": [
    "results=cur.execute(\"select min(age) from student\")\n",
    "\n",
    "for i in results:\n",
    "    print(i)"
   ]
  },
  {
   "cell_type": "code",
   "execution_count": 45,
   "id": "29c4814f",
   "metadata": {},
   "outputs": [
    {
     "name": "stdout",
     "output_type": "stream",
     "text": [
      "(29,)\n"
     ]
    }
   ],
   "source": [
    "results=cur.execute(\"select max(age) from student\")\n",
    "\n",
    "for i in results:\n",
    "    print(i)"
   ]
  },
  {
   "cell_type": "markdown",
   "id": "409fc2e5",
   "metadata": {},
   "source": [
    "insted age create student table with marks you will use marks insted age"
   ]
  },
  {
   "cell_type": "code",
   "execution_count": 46,
   "id": "e7ebc9b2",
   "metadata": {},
   "outputs": [
    {
     "name": "stdout",
     "output_type": "stream",
     "text": [
      "(22.333333333333332,)\n"
     ]
    }
   ],
   "source": [
    "results=cur.execute(\"select avg(age) from student\")\n",
    "\n",
    "for i in results:\n",
    "    print(i)"
   ]
  },
  {
   "cell_type": "code",
   "execution_count": 47,
   "id": "01f92542",
   "metadata": {},
   "outputs": [
    {
     "name": "stdout",
     "output_type": "stream",
     "text": [
      "(201,)\n"
     ]
    }
   ],
   "source": [
    "results=cur.execute(\"select sum(age) from student\")\n",
    "\n",
    "for i in results:\n",
    "    print(i)"
   ]
  },
  {
   "cell_type": "code",
   "execution_count": 48,
   "id": "b26724af",
   "metadata": {},
   "outputs": [
    {
     "name": "stdout",
     "output_type": "stream",
     "text": [
      "(9,)\n"
     ]
    }
   ],
   "source": [
    "results=cur.execute(\"select count(id) from student\")\n",
    "\n",
    "for i in results:\n",
    "    print(i)"
   ]
  },
  {
   "cell_type": "markdown",
   "id": "de4e78df",
   "metadata": {},
   "source": [
    "between operator"
   ]
  },
  {
   "cell_type": "code",
   "execution_count": 49,
   "id": "7967bde8",
   "metadata": {},
   "outputs": [
    {
     "ename": "OperationalError",
     "evalue": "near \"between\": syntax error",
     "output_type": "error",
     "traceback": [
      "\u001b[1;31m---------------------------------------------------------------------------\u001b[0m",
      "\u001b[1;31mOperationalError\u001b[0m                          Traceback (most recent call last)",
      "Input \u001b[1;32mIn [49]\u001b[0m, in \u001b[0;36m<cell line: 1>\u001b[1;34m()\u001b[0m\n\u001b[1;32m----> 1\u001b[0m results\u001b[38;5;241m=\u001b[39m\u001b[43mcur\u001b[49m\u001b[38;5;241;43m.\u001b[39;49m\u001b[43mexecute\u001b[49m\u001b[43m(\u001b[49m\u001b[38;5;124;43m\"\u001b[39;49m\u001b[38;5;124;43mselect * from student where between 20 and 29\u001b[39;49m\u001b[38;5;124;43m\"\u001b[39;49m\u001b[43m)\u001b[49m\n\u001b[0;32m      3\u001b[0m \u001b[38;5;28;01mfor\u001b[39;00m i \u001b[38;5;129;01min\u001b[39;00m results:\n\u001b[0;32m      4\u001b[0m     \u001b[38;5;28mprint\u001b[39m(i)\n",
      "\u001b[1;31mOperationalError\u001b[0m: near \"between\": syntax error"
     ]
    }
   ],
   "source": [
    "results=cur.execute(\"select * from student where between 20 and 29\")\n",
    "\n",
    "for i in results:\n",
    "    print(i)"
   ]
  },
  {
   "cell_type": "code",
   "execution_count": 50,
   "id": "7c07be51",
   "metadata": {},
   "outputs": [
    {
     "name": "stdout",
     "output_type": "stream",
     "text": [
      "(1, 'Andrew', 20)\n",
      "(3, 'John', 22)\n",
      "(5, 'Lisa', 24)\n",
      "(6, 'Brain', 22)\n",
      "(7, 'William', 24)\n",
      "(8, 'Kira', 29)\n",
      "(9, 'David', 22)\n"
     ]
    }
   ],
   "source": [
    "results=cur.execute(\"select * from student where age between 20 and 29\")\n",
    "\n",
    "for i in results:\n",
    "    print(i)"
   ]
  },
  {
   "cell_type": "markdown",
   "id": "b6bf3c28",
   "metadata": {},
   "source": [
    "null operator"
   ]
  },
  {
   "cell_type": "code",
   "execution_count": 51,
   "id": "e66b08d2",
   "metadata": {},
   "outputs": [
    {
     "name": "stdout",
     "output_type": "stream",
     "text": [
      "(1, 'Andrew', 20)\n",
      "(2, 'Smith', 19)\n",
      "(3, 'John', 22)\n",
      "(4, 'Jack', 19)\n",
      "(5, 'Lisa', 24)\n",
      "(6, 'Brain', 22)\n",
      "(7, 'William', 24)\n",
      "(8, 'Kira', 29)\n",
      "(9, 'David', 22)\n"
     ]
    }
   ],
   "source": [
    "results=cur.execute(\"select * from student\")\n",
    "\n",
    "for i in results:\n",
    "    print(i)"
   ]
  },
  {
   "cell_type": "code",
   "execution_count": 52,
   "id": "f618f6b5",
   "metadata": {},
   "outputs": [],
   "source": [
    "results=cur.execute(\"select * from student where age is null\")\n",
    "\n",
    "for i in results:\n",
    "    print(i)"
   ]
  },
  {
   "cell_type": "markdown",
   "id": "5de62e11",
   "metadata": {},
   "source": [
    "there is no null data in 52 input operation"
   ]
  },
  {
   "cell_type": "code",
   "execution_count": 53,
   "id": "5df28de2",
   "metadata": {},
   "outputs": [
    {
     "name": "stdout",
     "output_type": "stream",
     "text": [
      "(1, 'Andrew', 20)\n",
      "(2, 'Smith', 19)\n",
      "(3, 'John', 22)\n",
      "(4, 'Jack', 19)\n",
      "(5, 'Lisa', 24)\n",
      "(6, 'Brain', 22)\n",
      "(7, 'William', 24)\n",
      "(8, 'Kira', 29)\n",
      "(9, 'David', 22)\n"
     ]
    }
   ],
   "source": [
    "results=cur.execute(\"select * from student where age is NOT null\")\n",
    "\n",
    "for i in results:\n",
    "    print(i)"
   ]
  },
  {
   "cell_type": "markdown",
   "id": "14948a5b",
   "metadata": {},
   "source": [
    "LIKE operator"
   ]
  },
  {
   "cell_type": "markdown",
   "id": "727579f9",
   "metadata": {},
   "source": [
    "%-any charactor   _-single charactor"
   ]
  },
  {
   "cell_type": "code",
   "execution_count": 54,
   "id": "26b1dff6",
   "metadata": {},
   "outputs": [
    {
     "name": "stdout",
     "output_type": "stream",
     "text": [
      "(1, 'Andrew', 20)\n",
      "(2, 'Smith', 19)\n",
      "(3, 'John', 22)\n",
      "(4, 'Jack', 19)\n",
      "(5, 'Lisa', 24)\n",
      "(6, 'Brain', 22)\n",
      "(7, 'William', 24)\n",
      "(8, 'Kira', 29)\n",
      "(9, 'David', 22)\n"
     ]
    }
   ],
   "source": [
    "results=cur.execute(\"select * from student\")\n",
    "\n",
    "for i in results:\n",
    "    print(i)"
   ]
  },
  {
   "cell_type": "code",
   "execution_count": 55,
   "id": "0171afa4",
   "metadata": {},
   "outputs": [
    {
     "name": "stdout",
     "output_type": "stream",
     "text": [
      "(1, 'Andrew', 20)\n",
      "(4, 'Jack', 19)\n",
      "(5, 'Lisa', 24)\n",
      "(6, 'Brain', 22)\n",
      "(7, 'William', 24)\n",
      "(8, 'Kira', 29)\n",
      "(9, 'David', 22)\n"
     ]
    }
   ],
   "source": [
    "results=cur.execute(\"select * from student where name LIKE '%a%'\")\n",
    "\n",
    "for i in results:\n",
    "    print(i)"
   ]
  },
  {
   "cell_type": "code",
   "execution_count": 56,
   "id": "d7ed8448",
   "metadata": {},
   "outputs": [
    {
     "name": "stdout",
     "output_type": "stream",
     "text": [
      "(1, 'Andrew', 20)\n"
     ]
    }
   ],
   "source": [
    "results=cur.execute(\"select * from student where name LIKE 'A%'\")\n",
    "\n",
    "for i in results:\n",
    "    print(i)"
   ]
  },
  {
   "cell_type": "code",
   "execution_count": 57,
   "id": "aaf79d46",
   "metadata": {},
   "outputs": [
    {
     "name": "stdout",
     "output_type": "stream",
     "text": [
      "(1, 'Andrew', 20)\n"
     ]
    }
   ],
   "source": [
    "results=cur.execute(\"select * from student where name LIKE '%w'\")\n",
    "\n",
    "for i in results:\n",
    "    print(i)"
   ]
  },
  {
   "cell_type": "code",
   "execution_count": 58,
   "id": "3200c3ba",
   "metadata": {},
   "outputs": [
    {
     "name": "stdout",
     "output_type": "stream",
     "text": [
      "(4, 'Jack', 19)\n"
     ]
    }
   ],
   "source": [
    "results=cur.execute(\"select * from student where name LIKE '_a__'\")\n",
    "\n",
    "for i in results:\n",
    "    print(i)"
   ]
  },
  {
   "cell_type": "code",
   "execution_count": 59,
   "id": "c404852f",
   "metadata": {},
   "outputs": [],
   "source": [
    "results=cur.execute(\"select * from student where name LIKE '_ll%'\")\n",
    "\n",
    "for i in results:\n",
    "    print(i)"
   ]
  },
  {
   "cell_type": "code",
   "execution_count": 60,
   "id": "b1ce2f4f",
   "metadata": {},
   "outputs": [
    {
     "name": "stdout",
     "output_type": "stream",
     "text": [
      "(7, 'William', 24)\n"
     ]
    }
   ],
   "source": [
    "results=cur.execute(\"select * from student where name LIKE '__ll%'\")\n",
    "\n",
    "for i in results:\n",
    "    print(i)"
   ]
  },
  {
   "cell_type": "code",
   "execution_count": 61,
   "id": "5ea1cefb",
   "metadata": {},
   "outputs": [
    {
     "name": "stdout",
     "output_type": "stream",
     "text": [
      "(2, 'Smith', 19)\n",
      "(5, 'Lisa', 24)\n",
      "(6, 'Brain', 22)\n",
      "(7, 'William', 24)\n",
      "(8, 'Kira', 29)\n",
      "(9, 'David', 22)\n"
     ]
    }
   ],
   "source": [
    "results=cur.execute(\"select * from student where name LIKE '%i%'\")\n",
    "\n",
    "for i in results:\n",
    "    print(i)"
   ]
  },
  {
   "cell_type": "code",
   "execution_count": 62,
   "id": "ccb2792e",
   "metadata": {},
   "outputs": [
    {
     "name": "stdout",
     "output_type": "stream",
     "text": [
      "(9, 'David', 22)\n"
     ]
    }
   ],
   "source": [
    "results=cur.execute(\"select * from student where name LIKE 'd%'\")\n",
    "\n",
    "for i in results:\n",
    "    print(i)"
   ]
  },
  {
   "cell_type": "code",
   "execution_count": 63,
   "id": "d000368e",
   "metadata": {},
   "outputs": [
    {
     "name": "stdout",
     "output_type": "stream",
     "text": [
      "(8, 'Kira', 29)\n"
     ]
    }
   ],
   "source": [
    "results=cur.execute(\"select * from student where name LIKE 'K%a'\")\n",
    "\n",
    "for i in results:\n",
    "    print(i)"
   ]
  },
  {
   "cell_type": "code",
   "execution_count": 64,
   "id": "3434ec69",
   "metadata": {},
   "outputs": [
    {
     "name": "stdout",
     "output_type": "stream",
     "text": [
      "(2, 'Smith', 19)\n",
      "(6, 'Brain', 22)\n",
      "(9, 'David', 22)\n"
     ]
    }
   ],
   "source": [
    "results=cur.execute(\"select * from student where name LIKE '_____'\")\n",
    "\n",
    "for i in results:\n",
    "    print(i)"
   ]
  },
  {
   "cell_type": "markdown",
   "id": "bb531d9e",
   "metadata": {},
   "source": [
    "Alt+Ent- Use additional cell/add cell & Ctrl+Entre - for Run the command"
   ]
  },
  {
   "cell_type": "code",
   "execution_count": null,
   "id": "bdbb395d",
   "metadata": {},
   "outputs": [],
   "source": []
  }
 ],
 "metadata": {
  "kernelspec": {
   "display_name": "Python 3 (ipykernel)",
   "language": "python",
   "name": "python3"
  },
  "language_info": {
   "codemirror_mode": {
    "name": "ipython",
    "version": 3
   },
   "file_extension": ".py",
   "mimetype": "text/x-python",
   "name": "python",
   "nbconvert_exporter": "python",
   "pygments_lexer": "ipython3",
   "version": "3.9.12"
  }
 },
 "nbformat": 4,
 "nbformat_minor": 5
}
