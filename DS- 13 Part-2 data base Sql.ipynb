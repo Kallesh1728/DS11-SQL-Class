{
 "cells": [
  {
   "cell_type": "code",
   "execution_count": 1,
   "id": "331ee2db",
   "metadata": {},
   "outputs": [],
   "source": [
    "import sqlite3"
   ]
  },
  {
   "cell_type": "markdown",
   "id": "f2f71992",
   "metadata": {},
   "source": [
    "data base will be remain there but table will be removed"
   ]
  },
  {
   "cell_type": "code",
   "execution_count": 2,
   "id": "b8eba969",
   "metadata": {},
   "outputs": [],
   "source": [
    "db=sqlite3.connect('my_studentdatabse2.db')"
   ]
  },
  {
   "cell_type": "code",
   "execution_count": 3,
   "id": "551fb16f",
   "metadata": {},
   "outputs": [],
   "source": [
    "cur=db.cursor()"
   ]
  },
  {
   "cell_type": "code",
   "execution_count": 4,
   "id": "7216bf91",
   "metadata": {},
   "outputs": [
    {
     "data": {
      "text/plain": [
       "<sqlite3.Cursor at 0x296a89ccea0>"
      ]
     },
     "execution_count": 4,
     "metadata": {},
     "output_type": "execute_result"
    }
   ],
   "source": [
    "cur.execute(\"create table student22 (id int primary key,name text,marks int)\")"
   ]
  },
  {
   "cell_type": "code",
   "execution_count": 5,
   "id": "f7f0dae8",
   "metadata": {},
   "outputs": [],
   "source": [
    "cur.execute(\"insert into student22(id,name,marks) values(1,'John',90)\")\n",
    "db.commit()"
   ]
  },
  {
   "cell_type": "code",
   "execution_count": 6,
   "id": "1d2ee1a1",
   "metadata": {},
   "outputs": [],
   "source": [
    "cur.execute(\"insert into student22(id,name,marks) values(2,'Teena',90)\")\n",
    "db.commit()"
   ]
  },
  {
   "cell_type": "code",
   "execution_count": 7,
   "id": "b21ed0b3",
   "metadata": {},
   "outputs": [],
   "source": [
    "cur.execute(\"insert into student22(id,name,marks) values(3,'Andrew',90)\")\n",
    "db.commit()"
   ]
  },
  {
   "cell_type": "code",
   "execution_count": 8,
   "id": "418a2d42",
   "metadata": {},
   "outputs": [
    {
     "name": "stdout",
     "output_type": "stream",
     "text": [
      "(1, 'Andrew', 32)\n",
      "(2, 'Smith', 32)\n",
      "(3, 'John', 22)\n",
      "(4, 'Jack', 35)\n",
      "(5, 'Lisa', 24)\n",
      "(6, 'Brain', 22)\n",
      "(7, 'William', 24)\n",
      "(8, 'Kira', 29)\n",
      "(9, 'David', 22)\n"
     ]
    }
   ],
   "source": [
    "results=cur.execute(\"select * from student\")\n",
    "\n",
    "for row in results:\n",
    "    print(row)"
   ]
  },
  {
   "cell_type": "markdown",
   "id": "7a4b923d",
   "metadata": {},
   "source": [
    "# In python data base sheet your student table will be deleted but the creation of the table will be same so that if you are working in id, name age in that format only data base sheet work if your shift to mark create new date sheet"
   ]
  },
  {
   "cell_type": "code",
   "execution_count": null,
   "id": "009a08b3",
   "metadata": {},
   "outputs": [],
   "source": []
  }
 ],
 "metadata": {
  "kernelspec": {
   "display_name": "Python 3 (ipykernel)",
   "language": "python",
   "name": "python3"
  },
  "language_info": {
   "codemirror_mode": {
    "name": "ipython",
    "version": 3
   },
   "file_extension": ".py",
   "mimetype": "text/x-python",
   "name": "python",
   "nbconvert_exporter": "python",
   "pygments_lexer": "ipython3",
   "version": "3.9.12"
  }
 },
 "nbformat": 4,
 "nbformat_minor": 5
}
