{
 "cells": [
  {
   "cell_type": "markdown",
   "id": "40522a88",
   "metadata": {},
   "source": [
    "Adding data in tables with csv(comma separated values) files directly"
   ]
  },
  {
   "cell_type": "code",
   "execution_count": 1,
   "id": "beb39cf1",
   "metadata": {},
   "outputs": [],
   "source": [
    "import sqlite3"
   ]
  },
  {
   "cell_type": "code",
   "execution_count": 2,
   "id": "57aa1adf",
   "metadata": {},
   "outputs": [
    {
     "ename": "OperationalError",
     "evalue": "unable to open database file",
     "output_type": "error",
     "traceback": [
      "\u001b[1;31m---------------------------------------------------------------------------\u001b[0m",
      "\u001b[1;31mOperationalError\u001b[0m                          Traceback (most recent call last)",
      "Input \u001b[1;32mIn [2]\u001b[0m, in \u001b[0;36m<cell line: 1>\u001b[1;34m()\u001b[0m\n\u001b[1;32m----> 1\u001b[0m db\u001b[38;5;241m=\u001b[39m\u001b[43msqlite3\u001b[49m\u001b[38;5;241;43m.\u001b[39;49m\u001b[43mconnect\u001b[49m\u001b[43m(\u001b[49m\u001b[38;5;124;43m\"\u001b[39;49m\u001b[38;5;124;43mD://MySQLite_DataBase/Scores_database.db\u001b[39;49m\u001b[38;5;124;43m\"\u001b[39;49m\u001b[43m)\u001b[49m\n\u001b[0;32m      3\u001b[0m \u001b[38;5;66;03m#Declare cursor\u001b[39;00m\n\u001b[0;32m      4\u001b[0m Cursor \u001b[38;5;241m=\u001b[39m db\u001b[38;5;241m.\u001b[39mcursor()\n",
      "\u001b[1;31mOperationalError\u001b[0m: unable to open database file"
     ]
    }
   ],
   "source": [
    "db=sqlite3.connect(\"D://MySQLite_DataBase/Scores_database.db\")\n",
    "\n",
    "#Declare cursor\n",
    "Cursor = db.cursor()"
   ]
  },
  {
   "cell_type": "code",
   "execution_count": 4,
   "id": "56329822",
   "metadata": {},
   "outputs": [],
   "source": [
    "db=sqlite3.connect(\"D:/KN E D/DS/MySQLite_DataBase/Scores_database.db\")\n",
    "\n",
    "#Declare cursor\n",
    "Cursor = db.cursor()"
   ]
  },
  {
   "cell_type": "code",
   "execution_count": 5,
   "id": "83a199ac",
   "metadata": {},
   "outputs": [
    {
     "data": {
      "text/plain": [
       "<sqlite3.Cursor at 0x21c8f111dc0>"
      ]
     },
     "execution_count": 5,
     "metadata": {},
     "output_type": "execute_result"
    }
   ],
   "source": [
    "#create table\n",
    "Cursor.execute(\"CREATE TABLE scores(gender Text, student_id INT PRIMARY KEY, marks INT)\")"
   ]
  },
  {
   "cell_type": "markdown",
   "id": "547d725d",
   "metadata": {},
   "source": [
    "Inserting record from csv files"
   ]
  },
  {
   "cell_type": "markdown",
   "id": "c439388d",
   "metadata": {},
   "source": [
    "Creating larger number of id you will use Notepad/excel- In Notepad saveas file as Score_file.csv in save as Type -all files & Using in excel you will file name as- Score_file Save as type-CSV(Comma delimited)"
   ]
  },
  {
   "cell_type": "code",
   "execution_count": 6,
   "id": "32994362",
   "metadata": {},
   "outputs": [
    {
     "ename": "NameError",
     "evalue": "name 'cursor' is not defined",
     "output_type": "error",
     "traceback": [
      "\u001b[1;31m---------------------------------------------------------------------------\u001b[0m",
      "\u001b[1;31mNameError\u001b[0m                                 Traceback (most recent call last)",
      "Input \u001b[1;32mIn [6]\u001b[0m, in \u001b[0;36m<cell line: 1>\u001b[1;34m()\u001b[0m\n\u001b[0;32m      2\u001b[0m total_records\u001b[38;5;241m=\u001b[39m\u001b[38;5;241m0\u001b[39m\n\u001b[0;32m      3\u001b[0m \u001b[38;5;28;01mfor\u001b[39;00m row \u001b[38;5;129;01min\u001b[39;00m file:\n\u001b[1;32m----> 4\u001b[0m     \u001b[43mcursor\u001b[49m\u001b[38;5;241m.\u001b[39mexecute(\u001b[38;5;124m\"\u001b[39m\u001b[38;5;124minsert into scores values(?,?,?)\u001b[39m\u001b[38;5;124m\"\u001b[39m,row\u001b[38;5;241m.\u001b[39msplit(\u001b[38;5;124m\"\u001b[39m\u001b[38;5;124m,\u001b[39m\u001b[38;5;124m\"\u001b[39m))\n\u001b[0;32m      5\u001b[0m     db\u001b[38;5;241m.\u001b[39mcommit()\n\u001b[0;32m      6\u001b[0m     total_records\u001b[38;5;241m+\u001b[39m\u001b[38;5;241m=\u001b[39m\u001b[38;5;241m1\u001b[39m\n",
      "\u001b[1;31mNameError\u001b[0m: name 'cursor' is not defined"
     ]
    }
   ],
   "source": [
    "with open('Scores_file.csv','r') as file:\n",
    "    total_records=0\n",
    "    for row in file:\n",
    "        cursor.execute(\"insert into scores values(?,?,?)\",row.split(\",\"))\n",
    "        db.commit()\n",
    "        total_records+=1\n",
    "        print(total_records,'records inserted')"
   ]
  },
  {
   "cell_type": "code",
   "execution_count": 7,
   "id": "6045322a",
   "metadata": {},
   "outputs": [
    {
     "name": "stdout",
     "output_type": "stream",
     "text": [
      "1 records inserted\n",
      "2 records inserted\n",
      "3 records inserted\n",
      "4 records inserted\n",
      "5 records inserted\n",
      "6 records inserted\n",
      "7 records inserted\n",
      "8 records inserted\n",
      "9 records inserted\n",
      "10 records inserted\n",
      "11 records inserted\n",
      "12 records inserted\n"
     ]
    }
   ],
   "source": [
    "with open('Scores_file.csv','r') as file:\n",
    "    total_records=0\n",
    "    for row in file:\n",
    "        Cursor.execute(\"insert into scores values(?,?,?)\",row.split(\",\"))\n",
    "        db.commit()\n",
    "        total_records+=1\n",
    "        print(total_records,'records inserted')"
   ]
  },
  {
   "cell_type": "code",
   "execution_count": null,
   "id": "a60940a2",
   "metadata": {},
   "outputs": [],
   "source": [
    "Score_fiel.csv is file name, r is read mode, "
   ]
  },
  {
   "cell_type": "code",
   "execution_count": 8,
   "id": "43d96d2b",
   "metadata": {},
   "outputs": [
    {
     "ename": "NameError",
     "evalue": "name 'results' is not defined",
     "output_type": "error",
     "traceback": [
      "\u001b[1;31m---------------------------------------------------------------------------\u001b[0m",
      "\u001b[1;31mNameError\u001b[0m                                 Traceback (most recent call last)",
      "Input \u001b[1;32mIn [8]\u001b[0m, in \u001b[0;36m<cell line: 2>\u001b[1;34m()\u001b[0m\n\u001b[0;32m      1\u001b[0m result\u001b[38;5;241m=\u001b[39mCursor\u001b[38;5;241m.\u001b[39mexecute(\u001b[38;5;124m\"\u001b[39m\u001b[38;5;124mselect * FROM SCORES\u001b[39m\u001b[38;5;124m\"\u001b[39m)\n\u001b[1;32m----> 2\u001b[0m \u001b[38;5;28;01mfor\u001b[39;00m roe \u001b[38;5;129;01min\u001b[39;00m \u001b[43mresults\u001b[49m:\n\u001b[0;32m      3\u001b[0m     \u001b[38;5;28mprint\u001b[39m(row)\n",
      "\u001b[1;31mNameError\u001b[0m: name 'results' is not defined"
     ]
    }
   ],
   "source": [
    "result=Cursor.execute(\"select * FROM SCORES\")\n",
    "for roe in results:\n",
    "    print(row)"
   ]
  },
  {
   "cell_type": "code",
   "execution_count": 9,
   "id": "297e1440",
   "metadata": {},
   "outputs": [
    {
     "ename": "NameError",
     "evalue": "name 'results' is not defined",
     "output_type": "error",
     "traceback": [
      "\u001b[1;31m---------------------------------------------------------------------------\u001b[0m",
      "\u001b[1;31mNameError\u001b[0m                                 Traceback (most recent call last)",
      "Input \u001b[1;32mIn [9]\u001b[0m, in \u001b[0;36m<cell line: 2>\u001b[1;34m()\u001b[0m\n\u001b[0;32m      1\u001b[0m result\u001b[38;5;241m=\u001b[39mCursor\u001b[38;5;241m.\u001b[39mexecute(\u001b[38;5;124m\"\u001b[39m\u001b[38;5;124mselect * FROM SCORES\u001b[39m\u001b[38;5;124m\"\u001b[39m)\n\u001b[1;32m----> 2\u001b[0m \u001b[38;5;28;01mfor\u001b[39;00m row \u001b[38;5;129;01min\u001b[39;00m \u001b[43mresults\u001b[49m:\n\u001b[0;32m      3\u001b[0m     \u001b[38;5;28mprint\u001b[39m(row)\n",
      "\u001b[1;31mNameError\u001b[0m: name 'results' is not defined"
     ]
    }
   ],
   "source": [
    "result=Cursor.execute(\"select * FROM SCORES\")\n",
    "for row in results:\n",
    "    print(row)"
   ]
  },
  {
   "cell_type": "code",
   "execution_count": 10,
   "id": "5811682f",
   "metadata": {},
   "outputs": [
    {
     "name": "stdout",
     "output_type": "stream",
     "text": [
      "('Male', 104, 56)\n",
      "('Male', 105, 78)\n",
      "('Female', 106, 36)\n",
      "('Male', 107, 20)\n",
      "('Female', 108, 98)\n",
      "('Male', 109, 85)\n",
      "('Female', 110, 69)\n",
      "('Male', 111, 46)\n",
      "('Female', 112, 46)\n",
      "('Male', 113, 91)\n",
      "('Male', 114, 48)\n",
      "('Male', 115, 56)\n"
     ]
    }
   ],
   "source": [
    "results=Cursor.execute(\"select * FROM SCORES\")\n",
    "for row in results:\n",
    "    print(row)"
   ]
  },
  {
   "cell_type": "code",
   "execution_count": null,
   "id": "cf8c2760",
   "metadata": {},
   "outputs": [],
   "source": []
  }
 ],
 "metadata": {
  "kernelspec": {
   "display_name": "Python 3 (ipykernel)",
   "language": "python",
   "name": "python3"
  },
  "language_info": {
   "codemirror_mode": {
    "name": "ipython",
    "version": 3
   },
   "file_extension": ".py",
   "mimetype": "text/x-python",
   "name": "python",
   "nbconvert_exporter": "python",
   "pygments_lexer": "ipython3",
   "version": "3.9.12"
  }
 },
 "nbformat": 4,
 "nbformat_minor": 5
}
