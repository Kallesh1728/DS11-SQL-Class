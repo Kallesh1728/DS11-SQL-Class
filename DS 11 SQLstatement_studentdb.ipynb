{
 "cells": [
  {
   "cell_type": "code",
   "execution_count": 1,
   "id": "2a423651",
   "metadata": {},
   "outputs": [],
   "source": [
    "import sqlite3"
   ]
  },
  {
   "cell_type": "code",
   "execution_count": 2,
   "id": "1cd049fc",
   "metadata": {},
   "outputs": [],
   "source": [
    "dbcon=sqlite3.connect('my_studentdatabase1.db')"
   ]
  },
  {
   "cell_type": "code",
   "execution_count": 3,
   "id": "a9123a76",
   "metadata": {},
   "outputs": [],
   "source": [
    "cur=dbcon.cursor()"
   ]
  },
  {
   "cell_type": "code",
   "execution_count": 4,
   "id": "d41bf455",
   "metadata": {},
   "outputs": [
    {
     "data": {
      "text/plain": [
       "<sqlite3.Cursor at 0x2cf3603cdc0>"
      ]
     },
     "execution_count": 4,
     "metadata": {},
     "output_type": "execute_result"
    }
   ],
   "source": [
    "cur.execute(\"create table student(id int primary key,name text,age int)\")"
   ]
  },
  {
   "cell_type": "code",
   "execution_count": 5,
   "id": "1560fd87",
   "metadata": {},
   "outputs": [],
   "source": [
    "cur.execute(\"insert into student (id,name,age) values(1,'Andrew',20)\")\n",
    "\n",
    "dbcon.commit()"
   ]
  },
  {
   "cell_type": "code",
   "execution_count": 6,
   "id": "f06855fe",
   "metadata": {},
   "outputs": [
    {
     "ename": "NameError",
     "evalue": "name 'execute' is not defined",
     "output_type": "error",
     "traceback": [
      "\u001b[1;31m---------------------------------------------------------------------------\u001b[0m",
      "\u001b[1;31mNameError\u001b[0m                                 Traceback (most recent call last)",
      "Input \u001b[1;32mIn [6]\u001b[0m, in \u001b[0;36m<cell line: 1>\u001b[1;34m()\u001b[0m\n\u001b[1;32m----> 1\u001b[0m cur,\u001b[43mexecute\u001b[49m(\u001b[38;5;124m\"\u001b[39m\u001b[38;5;124minsert into student (id,name,age) values(2,\u001b[39m\u001b[38;5;124m'\u001b[39m\u001b[38;5;124msmith\u001b[39m\u001b[38;5;124m'\u001b[39m\u001b[38;5;124m,19)\u001b[39m\u001b[38;5;124m\"\u001b[39m)\n\u001b[0;32m      3\u001b[0m dbcon\u001b[38;5;241m.\u001b[39mcommit()\n",
      "\u001b[1;31mNameError\u001b[0m: name 'execute' is not defined"
     ]
    }
   ],
   "source": [
    "cur,execute(\"insert into student (id,name,age) values(2,'smith',19)\")\n",
    "\n",
    "dbcon.commit()"
   ]
  },
  {
   "cell_type": "code",
   "execution_count": 7,
   "id": "66330564",
   "metadata": {},
   "outputs": [],
   "source": [
    "cur.execute(\"insert into student (id,name,age) values(2,'smith',19)\")\n",
    "\n",
    "dbcon.commit()"
   ]
  },
  {
   "cell_type": "code",
   "execution_count": 8,
   "id": "9c6eff66",
   "metadata": {},
   "outputs": [],
   "source": [
    "cur.execute(\"insert into student(id,name,age) values(3,'john',22)\")\n",
    "\n",
    "dbcon.commit()"
   ]
  },
  {
   "cell_type": "code",
   "execution_count": 9,
   "id": "573b3ceb",
   "metadata": {},
   "outputs": [
    {
     "name": "stdout",
     "output_type": "stream",
     "text": [
      "(1, 'Andrew', 20)\n",
      "(2, 'smith', 19)\n",
      "(3, 'john', 22)\n"
     ]
    }
   ],
   "source": [
    "results=cur.execute(\"select * from student\")\n",
    "\n",
    "for i in results:\n",
    "    print(i)"
   ]
  },
  {
   "cell_type": "code",
   "execution_count": 10,
   "id": "cf18d147",
   "metadata": {},
   "outputs": [],
   "source": [
    "cur.execute(\"insert into student values(4,'Lisa',24)\")\n",
    "\n",
    "dbcon.commit()"
   ]
  },
  {
   "cell_type": "code",
   "execution_count": 11,
   "id": "9e9b7a61",
   "metadata": {},
   "outputs": [
    {
     "ename": "OperationalError",
     "evalue": "near \"22\": syntax error",
     "output_type": "error",
     "traceback": [
      "\u001b[1;31m---------------------------------------------------------------------------\u001b[0m",
      "\u001b[1;31mOperationalError\u001b[0m                          Traceback (most recent call last)",
      "Input \u001b[1;32mIn [11]\u001b[0m, in \u001b[0;36m<cell line: 1>\u001b[1;34m()\u001b[0m\n\u001b[1;32m----> 1\u001b[0m \u001b[43mcur\u001b[49m\u001b[38;5;241;43m.\u001b[39;49m\u001b[43mexecute\u001b[49m\u001b[43m(\u001b[49m\u001b[38;5;124;43m\"\u001b[39;49m\u001b[38;5;124;43minsert into student values(5,\u001b[39;49m\u001b[38;5;124;43m'\u001b[39;49m\u001b[38;5;124;43mjack\u001b[39;49m\u001b[38;5;124;43m'\u001b[39;49m\u001b[38;5;124;43m,19),(6,\u001b[39;49m\u001b[38;5;124;43m'\u001b[39;49m\u001b[38;5;124;43mbrain\u001b[39;49m\u001b[38;5;124;43m'\u001b[39;49m\u001b[38;5;124;43m22)\u001b[39;49m\u001b[38;5;124;43m\"\u001b[39;49m\u001b[43m)\u001b[49m\n\u001b[0;32m      3\u001b[0m dbcon\u001b[38;5;241m.\u001b[39mcommit()\n\u001b[0;32m      5\u001b[0m \u001b[38;5;28mprint\u001b[39m(cur\u001b[38;5;241m.\u001b[39mrowcount,\u001b[38;5;124m\"\u001b[39m\u001b[38;5;124m record(s) inserted\u001b[39m\u001b[38;5;124m\"\u001b[39m)\n",
      "\u001b[1;31mOperationalError\u001b[0m: near \"22\": syntax error"
     ]
    }
   ],
   "source": [
    "cur.execute(\"insert into student values(5,'jack',19),(6,'brain'22)\")\n",
    "\n",
    "dbcon.commit()\n",
    "\n",
    "print(cur.rowcount,\" record(s) inserted\")"
   ]
  },
  {
   "cell_type": "code",
   "execution_count": 12,
   "id": "b97073a0",
   "metadata": {},
   "outputs": [
    {
     "name": "stdout",
     "output_type": "stream",
     "text": [
      "2  record(s) inserted\n"
     ]
    }
   ],
   "source": [
    "cur.execute(\"insert into student values(5,'jack',19),(6,'Brain',22)\")\n",
    "\n",
    "dbcon.commit()\n",
    "\n",
    "print(cur.rowcount,\" record(s) inserted\")"
   ]
  },
  {
   "cell_type": "code",
   "execution_count": 13,
   "id": "c1f9f180",
   "metadata": {},
   "outputs": [
    {
     "name": "stdout",
     "output_type": "stream",
     "text": [
      "1 record inserted\n"
     ]
    }
   ],
   "source": [
    "cur.execute(\"insert into student values(7,'Williams',24)\")\n",
    "\n",
    "dbcon.commit()\n",
    "\n",
    "print(cur.rowcount,\"record inserted\")"
   ]
  },
  {
   "cell_type": "code",
   "execution_count": 14,
   "id": "61b343d5",
   "metadata": {},
   "outputs": [
    {
     "ename": "AttributeError",
     "evalue": "'sqlite3.Cursor' object has no attribute 'executed'",
     "output_type": "error",
     "traceback": [
      "\u001b[1;31m---------------------------------------------------------------------------\u001b[0m",
      "\u001b[1;31mAttributeError\u001b[0m                            Traceback (most recent call last)",
      "Input \u001b[1;32mIn [14]\u001b[0m, in \u001b[0;36m<cell line: 1>\u001b[1;34m()\u001b[0m\n\u001b[1;32m----> 1\u001b[0m results\u001b[38;5;241m=\u001b[39m\u001b[43mcur\u001b[49m\u001b[38;5;241;43m.\u001b[39;49m\u001b[43mexecuted\u001b[49m(\u001b[38;5;124m\"\u001b[39m\u001b[38;5;124mselect * from student\u001b[39m\u001b[38;5;124m\"\u001b[39m)\n\u001b[0;32m      3\u001b[0m \u001b[38;5;28;01mfor\u001b[39;00m i \u001b[38;5;129;01min\u001b[39;00m results:\n\u001b[0;32m      4\u001b[0m     \u001b[38;5;28mprint\u001b[39m(i)\n",
      "\u001b[1;31mAttributeError\u001b[0m: 'sqlite3.Cursor' object has no attribute 'executed'"
     ]
    }
   ],
   "source": [
    "results=cur.executed(\"select * from student\")\n",
    "\n",
    "for i in results:\n",
    "    print(i)"
   ]
  },
  {
   "cell_type": "code",
   "execution_count": 15,
   "id": "7902ab5d",
   "metadata": {},
   "outputs": [
    {
     "ename": "OperationalError",
     "evalue": "near \"student\": syntax error",
     "output_type": "error",
     "traceback": [
      "\u001b[1;31m---------------------------------------------------------------------------\u001b[0m",
      "\u001b[1;31mOperationalError\u001b[0m                          Traceback (most recent call last)",
      "Input \u001b[1;32mIn [15]\u001b[0m, in \u001b[0;36m<cell line: 1>\u001b[1;34m()\u001b[0m\n\u001b[1;32m----> 1\u001b[0m resutls\u001b[38;5;241m=\u001b[39m\u001b[43mcur\u001b[49m\u001b[38;5;241;43m.\u001b[39;49m\u001b[43mexecute\u001b[49m\u001b[43m(\u001b[49m\u001b[38;5;124;43m\"\u001b[39;49m\u001b[38;5;124;43mselect * student\u001b[39;49m\u001b[38;5;124;43m\"\u001b[39;49m\u001b[43m)\u001b[49m\n\u001b[0;32m      3\u001b[0m \u001b[38;5;28;01mfor\u001b[39;00m i \u001b[38;5;129;01min\u001b[39;00m results:\n\u001b[0;32m      4\u001b[0m     \u001b[38;5;28mprint\u001b[39m(i)\n",
      "\u001b[1;31mOperationalError\u001b[0m: near \"student\": syntax error"
     ]
    }
   ],
   "source": [
    "resutls=cur.execute(\"select * student\")\n",
    "\n",
    "for i in results:\n",
    "    print(i)"
   ]
  },
  {
   "cell_type": "code",
   "execution_count": 16,
   "id": "72e62222",
   "metadata": {},
   "outputs": [
    {
     "name": "stdout",
     "output_type": "stream",
     "text": [
      "(1, 'Andrew', 20)\n",
      "(2, 'smith', 19)\n",
      "(3, 'john', 22)\n",
      "(4, 'Lisa', 24)\n",
      "(5, 'jack', 19)\n",
      "(6, 'Brain', 22)\n",
      "(7, 'Williams', 24)\n"
     ]
    }
   ],
   "source": [
    "results=cur.execute(\"select * from student\")\n",
    "\n",
    "for i in results:\n",
    "    print(i)"
   ]
  },
  {
   "cell_type": "code",
   "execution_count": 17,
   "id": "6e2eec55",
   "metadata": {},
   "outputs": [
    {
     "name": "stdout",
     "output_type": "stream",
     "text": [
      "(1, 'Andrew', 20)\n",
      "(2, 'smith', 19)\n",
      "(3, 'john', 22)\n",
      "(4, 'Lisa', 24)\n",
      "(5, 'jack', 19)\n",
      "(6, 'Brain', 22)\n",
      "(7, 'Williams', 24)\n"
     ]
    }
   ],
   "source": [
    "results=cur.execute(\"select * from student\")\n",
    "\n",
    "for p in results:\n",
    "    print(p)"
   ]
  },
  {
   "cell_type": "code",
   "execution_count": 18,
   "id": "9c54cc44",
   "metadata": {},
   "outputs": [
    {
     "name": "stdout",
     "output_type": "stream",
     "text": [
      "(1,)\n",
      "(2,)\n",
      "(3,)\n",
      "(4,)\n",
      "(5,)\n",
      "(6,)\n",
      "(7,)\n"
     ]
    }
   ],
   "source": [
    "results=cur.execute(\"select id from student\")\n",
    "\n",
    "for p in results:\n",
    "    print(p)"
   ]
  },
  {
   "cell_type": "code",
   "execution_count": 19,
   "id": "bc445bd7",
   "metadata": {},
   "outputs": [
    {
     "ename": "OperationalError",
     "evalue": "near \"slect\": syntax error",
     "output_type": "error",
     "traceback": [
      "\u001b[1;31m---------------------------------------------------------------------------\u001b[0m",
      "\u001b[1;31mOperationalError\u001b[0m                          Traceback (most recent call last)",
      "Input \u001b[1;32mIn [19]\u001b[0m, in \u001b[0;36m<cell line: 1>\u001b[1;34m()\u001b[0m\n\u001b[1;32m----> 1\u001b[0m results\u001b[38;5;241m=\u001b[39m\u001b[43mcur\u001b[49m\u001b[38;5;241;43m.\u001b[39;49m\u001b[43mexecute\u001b[49m\u001b[43m(\u001b[49m\u001b[38;5;124;43m\"\u001b[39;49m\u001b[38;5;124;43mslect name from student\u001b[39;49m\u001b[38;5;124;43m\"\u001b[39;49m\u001b[43m)\u001b[49m\n\u001b[0;32m      3\u001b[0m \u001b[38;5;28;01mfor\u001b[39;00m p \u001b[38;5;129;01min\u001b[39;00m results:\n\u001b[0;32m      4\u001b[0m     \u001b[38;5;28mprint\u001b[39m(p)\n",
      "\u001b[1;31mOperationalError\u001b[0m: near \"slect\": syntax error"
     ]
    }
   ],
   "source": [
    "results=cur.execute(\"slect name from student\")\n",
    "\n",
    "for p in results:\n",
    "    print(p)"
   ]
  },
  {
   "cell_type": "code",
   "execution_count": 20,
   "id": "e344bbf2",
   "metadata": {},
   "outputs": [
    {
     "name": "stdout",
     "output_type": "stream",
     "text": [
      "('Andrew',)\n",
      "('smith',)\n",
      "('john',)\n",
      "('Lisa',)\n",
      "('jack',)\n",
      "('Brain',)\n",
      "('Williams',)\n"
     ]
    }
   ],
   "source": [
    "results=cur.execute(\"select name from student\")\n",
    "\n",
    "for p in results:\n",
    "    print(p)"
   ]
  },
  {
   "cell_type": "code",
   "execution_count": 21,
   "id": "c3619f89",
   "metadata": {},
   "outputs": [
    {
     "name": "stdout",
     "output_type": "stream",
     "text": [
      "(20,)\n",
      "(19,)\n",
      "(22,)\n",
      "(24,)\n",
      "(19,)\n",
      "(22,)\n",
      "(24,)\n"
     ]
    }
   ],
   "source": [
    "results=cur.execute(\"select age from student\")\n",
    "\n",
    "for p in results:\n",
    "    print(p)"
   ]
  },
  {
   "cell_type": "code",
   "execution_count": 22,
   "id": "e24f44b0",
   "metadata": {},
   "outputs": [
    {
     "ename": "OperationalError",
     "evalue": "near \"form\": syntax error",
     "output_type": "error",
     "traceback": [
      "\u001b[1;31m---------------------------------------------------------------------------\u001b[0m",
      "\u001b[1;31mOperationalError\u001b[0m                          Traceback (most recent call last)",
      "Input \u001b[1;32mIn [22]\u001b[0m, in \u001b[0;36m<cell line: 1>\u001b[1;34m()\u001b[0m\n\u001b[1;32m----> 1\u001b[0m results\u001b[38;5;241m=\u001b[39m\u001b[43mcur\u001b[49m\u001b[38;5;241;43m.\u001b[39;49m\u001b[43mexecute\u001b[49m\u001b[43m(\u001b[49m\u001b[38;5;124;43m\"\u001b[39;49m\u001b[38;5;124;43mselect * form student\u001b[39;49m\u001b[38;5;124;43m\"\u001b[39;49m\u001b[43m)\u001b[49m\n\u001b[0;32m      3\u001b[0m \u001b[38;5;28;01mfor\u001b[39;00m p \u001b[38;5;129;01min\u001b[39;00m rsults:\n\u001b[0;32m      4\u001b[0m     \u001b[38;5;28mprint\u001b[39m(p)\n",
      "\u001b[1;31mOperationalError\u001b[0m: near \"form\": syntax error"
     ]
    }
   ],
   "source": [
    "results=cur.execute(\"select * form student\")\n",
    "\n",
    "for p in rsults:\n",
    "    print(p)"
   ]
  },
  {
   "cell_type": "code",
   "execution_count": 23,
   "id": "0b9ee33e",
   "metadata": {},
   "outputs": [
    {
     "name": "stdout",
     "output_type": "stream",
     "text": [
      "(1, 'Andrew', 20)\n",
      "(2, 'smith', 19)\n",
      "(3, 'john', 22)\n",
      "(4, 'Lisa', 24)\n",
      "(5, 'jack', 19)\n",
      "(6, 'Brain', 22)\n",
      "(7, 'Williams', 24)\n"
     ]
    }
   ],
   "source": [
    "results=cur.execute(\"select * from student\")\n",
    "\n",
    "for p in results:\n",
    "    print(p)"
   ]
  },
  {
   "cell_type": "code",
   "execution_count": 24,
   "id": "b5c9352a",
   "metadata": {},
   "outputs": [
    {
     "name": "stdout",
     "output_type": "stream",
     "text": [
      "(1, 'Andrew', 20)\n"
     ]
    }
   ],
   "source": [
    "results=cur.execute(\"select * from student where id=1\")\n",
    "\n",
    "for p in results:\n",
    "    print(p)"
   ]
  },
  {
   "cell_type": "code",
   "execution_count": 30,
   "id": "2dd129be",
   "metadata": {},
   "outputs": [
    {
     "name": "stdout",
     "output_type": "stream",
     "text": [
      "(1, 'Andrew')\n"
     ]
    }
   ],
   "source": [
    "results=cur.execute(\"select id,name from student where id=1\")\n",
    "\n",
    "for p in results:\n",
    "    print(p)"
   ]
  },
  {
   "cell_type": "code",
   "execution_count": 25,
   "id": "561aff81",
   "metadata": {},
   "outputs": [
    {
     "name": "stdout",
     "output_type": "stream",
     "text": [
      "(2, 'smith', 19)\n"
     ]
    }
   ],
   "source": [
    "results=cur.execute(\"select * from student where id=2\")\n",
    "\n",
    "for p in results:\n",
    "    print(p)"
   ]
  },
  {
   "cell_type": "code",
   "execution_count": 26,
   "id": "9fc162ff",
   "metadata": {},
   "outputs": [
    {
     "name": "stdout",
     "output_type": "stream",
     "text": [
      "(3, 'john', 22)\n"
     ]
    }
   ],
   "source": [
    "results=cur.execute(\"select * from student where id=3\")\n",
    "\n",
    "for p in results:\n",
    "    print(p)"
   ]
  },
  {
   "cell_type": "code",
   "execution_count": 27,
   "id": "0e053b25",
   "metadata": {},
   "outputs": [
    {
     "name": "stdout",
     "output_type": "stream",
     "text": [
      "(1, 'Andrew')\n",
      "(2, 'smith')\n",
      "(3, 'john')\n",
      "(4, 'Lisa')\n",
      "(5, 'jack')\n",
      "(6, 'Brain')\n",
      "(7, 'Williams')\n"
     ]
    }
   ],
   "source": [
    "results=cur.execute(\"select id,name from student\")\n",
    "\n",
    "for p in results:\n",
    "    print(p)"
   ]
  },
  {
   "cell_type": "code",
   "execution_count": 28,
   "id": "534369bc",
   "metadata": {},
   "outputs": [
    {
     "name": "stdout",
     "output_type": "stream",
     "text": [
      "('Andrew', 20)\n",
      "('smith', 19)\n",
      "('john', 22)\n",
      "('Lisa', 24)\n",
      "('jack', 19)\n",
      "('Brain', 22)\n",
      "('Williams', 24)\n"
     ]
    }
   ],
   "source": [
    "results=cur.execute(\"select name,age from student\")\n",
    "\n",
    "for p in results:\n",
    "    print(p)"
   ]
  },
  {
   "cell_type": "code",
   "execution_count": 29,
   "id": "7a6f28ad",
   "metadata": {},
   "outputs": [
    {
     "name": "stdout",
     "output_type": "stream",
     "text": [
      "(1, 20)\n",
      "(2, 19)\n",
      "(3, 22)\n",
      "(4, 24)\n",
      "(5, 19)\n",
      "(6, 22)\n",
      "(7, 24)\n"
     ]
    }
   ],
   "source": [
    "results=cur.execute(\"select id,age from student\")\n",
    "\n",
    "for p in results:\n",
    "    print(p)"
   ]
  },
  {
   "cell_type": "code",
   "execution_count": 31,
   "id": "406cb82a",
   "metadata": {},
   "outputs": [
    {
     "name": "stdout",
     "output_type": "stream",
     "text": [
      "(1, 'Andrew', 20)\n",
      "(2, 'smith', 19)\n",
      "(3, 'john', 22)\n",
      "(4, 'Lisa', 24)\n",
      "(5, 'jack', 19)\n",
      "(6, 'Brain', 22)\n",
      "(7, 'Williams', 24)\n"
     ]
    }
   ],
   "source": [
    "results=cur.execute(\"select * from student\")\n",
    "\n",
    "for p in results:\n",
    "    print(p)"
   ]
  },
  {
   "cell_type": "code",
   "execution_count": 32,
   "id": "b3801f45",
   "metadata": {},
   "outputs": [
    {
     "name": "stdout",
     "output_type": "stream",
     "text": [
      "(2, 'smith', 19)\n"
     ]
    }
   ],
   "source": [
    "results=cur.execute(\"select * from student where name='smith'\")\n",
    "\n",
    "for p in results:\n",
    "    print(p)"
   ]
  },
  {
   "cell_type": "code",
   "execution_count": 35,
   "id": "b07d9976",
   "metadata": {},
   "outputs": [
    {
     "name": "stdout",
     "output_type": "stream",
     "text": [
      "(5, 'jack', 19)\n"
     ]
    }
   ],
   "source": [
    "results=cur.execute(\"select * from student where name='jack'\")\n",
    "\n",
    "for p in results:\n",
    "    print(p)"
   ]
  },
  {
   "cell_type": "code",
   "execution_count": 36,
   "id": "869cb559",
   "metadata": {},
   "outputs": [
    {
     "name": "stdout",
     "output_type": "stream",
     "text": [
      "(1, 'Andrew', 20)\n",
      "(2, 'smith', 19)\n",
      "(3, 'john', 22)\n",
      "(4, 'Lisa', 24)\n",
      "(5, 'jack', 19)\n",
      "(6, 'Brain', 22)\n",
      "(7, 'Williams', 24)\n"
     ]
    }
   ],
   "source": [
    "results=cur.execute(\"select * from student \")\n",
    "\n",
    "for p in results:\n",
    "    print(p)"
   ]
  },
  {
   "cell_type": "code",
   "execution_count": 37,
   "id": "37e7e95c",
   "metadata": {},
   "outputs": [
    {
     "name": "stdout",
     "output_type": "stream",
     "text": [
      "(2, 'smith', 19)\n",
      "(5, 'jack', 19)\n"
     ]
    }
   ],
   "source": [
    "results=cur.execute(\"select * from student where age=19 \")\n",
    "\n",
    "for p in results:\n",
    "    print(p)"
   ]
  },
  {
   "cell_type": "code",
   "execution_count": 38,
   "id": "7e8bdc28",
   "metadata": {},
   "outputs": [
    {
     "name": "stdout",
     "output_type": "stream",
     "text": [
      "(1, 'Andrew', 20)\n"
     ]
    }
   ],
   "source": [
    "results=cur.execute(\"select * from student where age=20\")\n",
    "\n",
    "for p in results:\n",
    "    print(p)"
   ]
  },
  {
   "cell_type": "code",
   "execution_count": 39,
   "id": "81393e79",
   "metadata": {},
   "outputs": [
    {
     "name": "stdout",
     "output_type": "stream",
     "text": [
      "(3, 'john', 22)\n",
      "(6, 'Brain', 22)\n"
     ]
    }
   ],
   "source": [
    "results=cur.execute(\"select * from student where age=22\")\n",
    "\n",
    "for p in results:\n",
    "    print(p)"
   ]
  },
  {
   "cell_type": "code",
   "execution_count": 40,
   "id": "6ed6f48d",
   "metadata": {},
   "outputs": [
    {
     "name": "stdout",
     "output_type": "stream",
     "text": [
      "(4, 'Lisa', 24)\n",
      "(7, 'Williams', 24)\n"
     ]
    }
   ],
   "source": [
    "results=cur.execute(\"select * from student where age=22\")\n",
    "\n",
    "for p in results:\n",
    "    print(p)"
   ]
  },
  {
   "cell_type": "code",
   "execution_count": 41,
   "id": "1cf77f5b",
   "metadata": {},
   "outputs": [
    {
     "name": "stdout",
     "output_type": "stream",
     "text": [
      "(4, 'Lisa', 24)\n",
      "(7, 'Williams', 24)\n"
     ]
    }
   ],
   "source": [
    "results=cur.execute(\"select * from student where age>22\")\n",
    "\n",
    "for p in results:\n",
    "    print(p)"
   ]
  },
  {
   "cell_type": "code",
   "execution_count": 42,
   "id": "5d4a397e",
   "metadata": {},
   "outputs": [
    {
     "name": "stdout",
     "output_type": "stream",
     "text": [
      "(2, 'smith', 19)\n",
      "(5, 'jack', 19)\n"
     ]
    }
   ],
   "source": [
    "results=cur.execute(\"select * from student where age<20\")\n",
    "\n",
    "for p in results:\n",
    "    print(p)"
   ]
  },
  {
   "cell_type": "code",
   "execution_count": 43,
   "id": "e0cdb5f0",
   "metadata": {},
   "outputs": [
    {
     "name": "stdout",
     "output_type": "stream",
     "text": [
      "('smith', 19)\n",
      "('jack', 19)\n"
     ]
    }
   ],
   "source": [
    "results=cur.execute(\"select name,age from student where age<20\")\n",
    "\n",
    "for p in results:\n",
    "    print(p)"
   ]
  },
  {
   "cell_type": "code",
   "execution_count": null,
   "id": "13f7200e",
   "metadata": {},
   "outputs": [],
   "source": []
  }
 ],
 "metadata": {
  "kernelspec": {
   "display_name": "Python 3 (ipykernel)",
   "language": "python",
   "name": "python3"
  },
  "language_info": {
   "codemirror_mode": {
    "name": "ipython",
    "version": 3
   },
   "file_extension": ".py",
   "mimetype": "text/x-python",
   "name": "python",
   "nbconvert_exporter": "python",
   "pygments_lexer": "ipython3",
   "version": "3.9.12"
  }
 },
 "nbformat": 4,
 "nbformat_minor": 5
}
