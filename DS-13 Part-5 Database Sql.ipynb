{
 "cells": [
  {
   "cell_type": "code",
   "execution_count": 1,
   "id": "a69e8941",
   "metadata": {},
   "outputs": [],
   "source": [
    "import sqlite3"
   ]
  },
  {
   "cell_type": "markdown",
   "id": "21203ff4",
   "metadata": {},
   "source": [
    "Adding data on table"
   ]
  },
  {
   "cell_type": "code",
   "execution_count": 2,
   "id": "97009cb7",
   "metadata": {},
   "outputs": [],
   "source": [
    "db=sqlite3.connect(\"D:/KN E D/DS/MySQLite_DataBase/Sports_database.db\")"
   ]
  },
  {
   "cell_type": "code",
   "execution_count": 3,
   "id": "27420716",
   "metadata": {},
   "outputs": [],
   "source": [
    "cur=db.cursor()"
   ]
  },
  {
   "cell_type": "markdown",
   "id": "28cdc3c5",
   "metadata": {},
   "source": [
    "Constraints----\n",
    "Unique-enter only unique values, no duplicate values\n",
    "Not null---no blank values can be insrted in table"
   ]
  },
  {
   "cell_type": "code",
   "execution_count": 4,
   "id": "0a46db9e",
   "metadata": {},
   "outputs": [
    {
     "data": {
      "text/plain": [
       "<sqlite3.Cursor at 0x224b31dcf10>"
      ]
     },
     "execution_count": 4,
     "metadata": {},
     "output_type": "execute_result"
    }
   ],
   "source": [
    "cur.execute(\"create table sport (id int primary key,sportsname text unique,dateofevent date,country text not null)\")"
   ]
  },
  {
   "cell_type": "code",
   "execution_count": 5,
   "id": "0b342dce",
   "metadata": {},
   "outputs": [
    {
     "data": {
      "text/plain": [
       "<sqlite3.Cursor at 0x224b31dcf10>"
      ]
     },
     "execution_count": 5,
     "metadata": {},
     "output_type": "execute_result"
    }
   ],
   "source": [
    "cur.execute(\"insert into sport values(1,'cricket','2021-11-9','England')\")"
   ]
  },
  {
   "cell_type": "markdown",
   "id": "be419b30",
   "metadata": {},
   "source": [
    "#this line will throw error as sportsname is duplicate --- unique constraint failed\n",
    "#cur.execute(\"insert into sport values(2,'cricket','2018-08-02','Srilanka')\")"
   ]
  },
  {
   "cell_type": "code",
   "execution_count": 6,
   "id": "ac1cea3b",
   "metadata": {},
   "outputs": [
    {
     "name": "stdout",
     "output_type": "stream",
     "text": [
      "1 record(s) inserted\n"
     ]
    }
   ],
   "source": [
    "cur.execute(\"insert into sport values(2,'Tennis','2018-08-02','Srilanka')\")\n",
    "print(cur.rowcount,\"record(s) inserted\")"
   ]
  },
  {
   "cell_type": "code",
   "execution_count": 7,
   "id": "faaa15b5",
   "metadata": {},
   "outputs": [
    {
     "data": {
      "text/plain": [
       "[(1, 'cricket', '2021-11-9', 'England'),\n",
       " (2, 'Tennis', '2018-08-02', 'Srilanka')]"
      ]
     },
     "execution_count": 7,
     "metadata": {},
     "output_type": "execute_result"
    }
   ],
   "source": [
    "results=cur.execute('select * from sport')\n",
    "\n",
    "results.fetchall()"
   ]
  },
  {
   "cell_type": "markdown",
   "id": "958d271e",
   "metadata": {},
   "source": [
    "#this query throe error: not null constraints : can not leave any field blank\n",
    "#cur.executed(\"insert into values(3,'football','2022-05-30', NULL)\")"
   ]
  },
  {
   "cell_type": "code",
   "execution_count": 8,
   "id": "e22dd9b9",
   "metadata": {},
   "outputs": [],
   "source": [
    "results=cur.execute(\"insert into sport values(3,'Football','2022-05-30','Australia')\")\n",
    "db.commit;"
   ]
  },
  {
   "cell_type": "code",
   "execution_count": 9,
   "id": "c123c301",
   "metadata": {},
   "outputs": [
    {
     "data": {
      "text/plain": [
       "[(1, 'cricket', '2021-11-9', 'England'),\n",
       " (2, 'Tennis', '2018-08-02', 'Srilanka'),\n",
       " (3, 'Football', '2022-05-30', 'Australia')]"
      ]
     },
     "execution_count": 9,
     "metadata": {},
     "output_type": "execute_result"
    }
   ],
   "source": [
    "results=cur.execute('select * from sport')\n",
    "\n",
    "results.fetchall()"
   ]
  },
  {
   "cell_type": "markdown",
   "id": "db720657",
   "metadata": {},
   "source": [
    "Employee database with DB and Python programmatically"
   ]
  },
  {
   "cell_type": "markdown",
   "id": "c79d681f",
   "metadata": {},
   "source": [
    "Knowledge purpose only"
   ]
  },
  {
   "cell_type": "code",
   "execution_count": 11,
   "id": "4ee3dc12",
   "metadata": {},
   "outputs": [],
   "source": [
    "import sqlite3"
   ]
  },
  {
   "cell_type": "code",
   "execution_count": 12,
   "id": "e464fa63",
   "metadata": {},
   "outputs": [],
   "source": [
    "con=sqlite3.connect(\"D:/KN E D/DS/MySQLite_DataBase/emp_database.db\")"
   ]
  },
  {
   "cell_type": "code",
   "execution_count": 13,
   "id": "2f62b2fe",
   "metadata": {},
   "outputs": [],
   "source": [
    "def sql_table(con):\n",
    "    cur=con.cursor()\n",
    "    cur.execute(\"create table employee(id integer primary key,name text,salary real,department text,position text,hiredate date)\")\n",
    "    con.commit()"
   ]
  },
  {
   "cell_type": "code",
   "execution_count": 14,
   "id": "f3a9af60",
   "metadata": {},
   "outputs": [],
   "source": [
    "cur=con.cursor()"
   ]
  },
  {
   "cell_type": "code",
   "execution_count": 15,
   "id": "2ceaad12",
   "metadata": {},
   "outputs": [],
   "source": [
    "#calling function\n",
    "\n",
    "sql_table(con)"
   ]
  },
  {
   "cell_type": "code",
   "execution_count": 16,
   "id": "7f29391f",
   "metadata": {},
   "outputs": [
    {
     "data": {
      "text/plain": [
       "<sqlite3.Cursor at 0x224b4db3d50>"
      ]
     },
     "execution_count": 16,
     "metadata": {},
     "output_type": "execute_result"
    }
   ],
   "source": [
    "cur=con.cursor()\n",
    "cur.execute(\"insert into employee values(1,'Jack',9000,'HR','Manger','2019-07-09')\")"
   ]
  },
  {
   "cell_type": "code",
   "execution_count": 17,
   "id": "961e2a31",
   "metadata": {},
   "outputs": [],
   "source": [
    "con.commit;"
   ]
  },
  {
   "cell_type": "code",
   "execution_count": 19,
   "id": "77ac60de",
   "metadata": {},
   "outputs": [
    {
     "data": {
      "text/plain": [
       "[(1, 'Jack', 9000.0, 'HR', 'Manger', '2019-07-09')]"
      ]
     },
     "execution_count": 19,
     "metadata": {},
     "output_type": "execute_result"
    }
   ],
   "source": [
    "results=cur.execute(\"select * from employee\")\n",
    "results.fetchall()"
   ]
  },
  {
   "cell_type": "code",
   "execution_count": 14,
   "id": "3a1bb853",
   "metadata": {},
   "outputs": [
    {
     "data": {
      "text/plain": [
       "<sqlite3.Cursor at 0x279ae794260>"
      ]
     },
     "execution_count": 14,
     "metadata": {},
     "output_type": "execute_result"
    }
   ],
   "source": [
    "cur=con.cursor()\n",
    "cur.execute(\"insert into employee values(1,'Jack',9000,'HR','Manger','2019-07-09')\")"
   ]
  },
  {
   "cell_type": "code",
   "execution_count": 15,
   "id": "09f4bfee",
   "metadata": {},
   "outputs": [],
   "source": [
    "con.commit;"
   ]
  },
  {
   "cell_type": "code",
   "execution_count": 16,
   "id": "7cb44422",
   "metadata": {},
   "outputs": [
    {
     "data": {
      "text/plain": [
       "[(1, 'Jack', 9000.0, 'HR', 'Manger', '2019-07-09')]"
      ]
     },
     "execution_count": 16,
     "metadata": {},
     "output_type": "execute_result"
    }
   ],
   "source": [
    "results=cur.execute(\"select * from employee\")\n",
    "results.fetchall()"
   ]
  },
  {
   "cell_type": "markdown",
   "id": "13ca3ed1",
   "metadata": {},
   "source": [
    "results=cur.execute(\"select * from employee\")\n",
    "results.fetchall()"
   ]
  },
  {
   "cell_type": "markdown",
   "id": "b8028184",
   "metadata": {},
   "source": [
    "we can also pass values/arguments to an INSERT statment in the exceute() method.we can use the question mark (?) as a placeholder for each values. the syntex of the INSERT will be like the following: "
   ]
  },
  {
   "cell_type": "markdown",
   "id": "fe14ea12",
   "metadata": {},
   "source": [
    "cur.execute('''insert into employee(id,name,salary,department,position,hiredate) values(?,?,?,?,?,?)'''),entries)\n",
    "entries=(2,'John',4000,'IT','Engineer','2018-02-06')"
   ]
  },
  {
   "cell_type": "code",
   "execution_count": 17,
   "id": "e6054f2d",
   "metadata": {},
   "outputs": [],
   "source": [
    "def sql_insert(con,entities):\n",
    "    cur=con.cursor()\n",
    "    cur.execute('insert into employee(id,name,salary,department,position,hiredate)values(?,?,?,?,?,?)',entities)"
   ]
  },
  {
   "cell_type": "code",
   "execution_count": 18,
   "id": "2470d34d",
   "metadata": {},
   "outputs": [],
   "source": [
    "entities=(2,'Andrew',7000,'IT','Engineer','2015-04-06')"
   ]
  },
  {
   "cell_type": "code",
   "execution_count": 19,
   "id": "d9382ce7",
   "metadata": {},
   "outputs": [],
   "source": [
    "# Calling sql insert to insert the data\n",
    "\n",
    "sql_insert(con,entities)"
   ]
  },
  {
   "cell_type": "code",
   "execution_count": 21,
   "id": "5d87aa39",
   "metadata": {},
   "outputs": [],
   "source": [
    "entities=(3,'Thomas',6000,'HR','Manager','2016-06-14')"
   ]
  },
  {
   "cell_type": "code",
   "execution_count": 23,
   "id": "805b928a",
   "metadata": {},
   "outputs": [],
   "source": [
    "sql_insert(con,entities)"
   ]
  },
  {
   "cell_type": "code",
   "execution_count": 24,
   "id": "3468b240",
   "metadata": {},
   "outputs": [
    {
     "data": {
      "text/plain": [
       "[(1, 'Jack', 9000.0, 'HR', 'Manger', '2019-07-09'),\n",
       " (2, 'Andrew', 7000.0, 'IT', 'Engineer', '2015-04-06'),\n",
       " (3, 'Thomas', 6000.0, 'HR', 'Manager', '2016-06-14')]"
      ]
     },
     "execution_count": 24,
     "metadata": {},
     "output_type": "execute_result"
    }
   ],
   "source": [
    "results=cur.execute(\"select * from employee\")\n",
    "results.fetchall()"
   ]
  },
  {
   "cell_type": "code",
   "execution_count": 30,
   "id": "f2241728",
   "metadata": {},
   "outputs": [],
   "source": [
    "entities=(4,'Rudolf',8000,'IT','Engineer','2012-08-23')"
   ]
  },
  {
   "cell_type": "code",
   "execution_count": 31,
   "id": "06da39b2",
   "metadata": {},
   "outputs": [
    {
     "ename": "IntegrityError",
     "evalue": "UNIQUE constraint failed: employee.id",
     "output_type": "error",
     "traceback": [
      "\u001b[1;31m---------------------------------------------------------------------------\u001b[0m",
      "\u001b[1;31mIntegrityError\u001b[0m                            Traceback (most recent call last)",
      "Input \u001b[1;32mIn [31]\u001b[0m, in \u001b[0;36m<cell line: 1>\u001b[1;34m()\u001b[0m\n\u001b[1;32m----> 1\u001b[0m \u001b[43msql_insert\u001b[49m\u001b[43m(\u001b[49m\u001b[43mcon\u001b[49m\u001b[43m,\u001b[49m\u001b[43mentities\u001b[49m\u001b[43m)\u001b[49m\n",
      "Input \u001b[1;32mIn [17]\u001b[0m, in \u001b[0;36msql_insert\u001b[1;34m(con, entities)\u001b[0m\n\u001b[0;32m      1\u001b[0m \u001b[38;5;28;01mdef\u001b[39;00m \u001b[38;5;21msql_insert\u001b[39m(con,entities):\n\u001b[0;32m      2\u001b[0m     cur\u001b[38;5;241m=\u001b[39mcon\u001b[38;5;241m.\u001b[39mcursor()\n\u001b[1;32m----> 3\u001b[0m     \u001b[43mcur\u001b[49m\u001b[38;5;241;43m.\u001b[39;49m\u001b[43mexecute\u001b[49m\u001b[43m(\u001b[49m\u001b[38;5;124;43m'\u001b[39;49m\u001b[38;5;124;43minsert into employee(id,name,salary,department,position,hiredate)values(?,?,?,?,?,?)\u001b[39;49m\u001b[38;5;124;43m'\u001b[39;49m\u001b[43m,\u001b[49m\u001b[43mentities\u001b[49m\u001b[43m)\u001b[49m\n",
      "\u001b[1;31mIntegrityError\u001b[0m: UNIQUE constraint failed: employee.id"
     ]
    }
   ],
   "source": [
    "sql_insert(con,entities)"
   ]
  },
  {
   "cell_type": "code",
   "execution_count": 32,
   "id": "d40c2dae",
   "metadata": {},
   "outputs": [
    {
     "data": {
      "text/plain": [
       "[(1, 'Jack', 9000.0, 'HR', 'Manger', '2019-07-09'),\n",
       " (2, 'Andrew', 7000.0, 'IT', 'Engineer', '2015-04-06'),\n",
       " (3, 'Thomas', 6000.0, 'HR', 'Manager', '2016-06-14'),\n",
       " (4, 'Rudolf', 8000.0, 'IT', 'Engineer', '2012-08-23')]"
      ]
     },
     "execution_count": 32,
     "metadata": {},
     "output_type": "execute_result"
    }
   ],
   "source": [
    "results=cur.execute(\"select * from employee\")\n",
    "results.fetchall()"
   ]
  },
  {
   "cell_type": "code",
   "execution_count": 35,
   "id": "638acb43",
   "metadata": {},
   "outputs": [
    {
     "data": {
      "text/plain": [
       "[(1, 'Jack', 9000.0, 'HR', 'Manger', '2019-07-09'),\n",
       " (2, 'Andrew', 7000.0, 'IT', 'Engineer', '2015-04-06'),\n",
       " (3, 'Thomas', 6000.0, 'HR', 'Manager', '2016-06-14'),\n",
       " (4, 'Rudolf', 8000.0, 'IT', 'Engineer', '2012-08-23')]"
      ]
     },
     "execution_count": 35,
     "metadata": {},
     "output_type": "execute_result"
    }
   ],
   "source": [
    "results=cur.execute(\"select * from employee\")\n",
    "results.fetchall()"
   ]
  },
  {
   "cell_type": "code",
   "execution_count": 36,
   "id": "825d7473",
   "metadata": {},
   "outputs": [],
   "source": [
    "def sql_update(con):\n",
    "    cur=con.cursor()\n",
    "    cur.execute('update employee set name=\"Martin\" where id=1')\n",
    "    con.commit()"
   ]
  },
  {
   "cell_type": "code",
   "execution_count": 37,
   "id": "553cab42",
   "metadata": {},
   "outputs": [],
   "source": [
    "sql_update(con)"
   ]
  },
  {
   "cell_type": "code",
   "execution_count": 38,
   "id": "cd0db13f",
   "metadata": {},
   "outputs": [
    {
     "data": {
      "text/plain": [
       "[(1, 'Martin', 9000.0, 'HR', 'Manger', '2019-07-09'),\n",
       " (2, 'Andrew', 7000.0, 'IT', 'Engineer', '2015-04-06'),\n",
       " (3, 'Thomas', 6000.0, 'HR', 'Manager', '2016-06-14'),\n",
       " (4, 'Rudolf', 8000.0, 'IT', 'Engineer', '2012-08-23')]"
      ]
     },
     "execution_count": 38,
     "metadata": {},
     "output_type": "execute_result"
    }
   ],
   "source": [
    "results=cur.execute(\"select * from employee\")\n",
    "results.fetchall()"
   ]
  },
  {
   "cell_type": "code",
   "execution_count": 39,
   "id": "33ee987d",
   "metadata": {},
   "outputs": [
    {
     "data": {
      "text/plain": [
       "[(1, 'Martin'), (2, 'Andrew'), (3, 'Thomas'), (4, 'Rudolf')]"
      ]
     },
     "execution_count": 39,
     "metadata": {},
     "output_type": "execute_result"
    }
   ],
   "source": [
    "results=cur.execute(\"select id,name from employee\")\n",
    "results.fetchall()"
   ]
  },
  {
   "cell_type": "code",
   "execution_count": 40,
   "id": "3172de52",
   "metadata": {},
   "outputs": [],
   "source": [
    "entities=(5,'Thomas',6000,'HR','Manager','2017-06-14')"
   ]
  },
  {
   "cell_type": "code",
   "execution_count": 41,
   "id": "00c30037",
   "metadata": {},
   "outputs": [],
   "source": [
    "# Calling sql insert to insert the data\n",
    "\n",
    "sql_insert(con,entities)"
   ]
  },
  {
   "cell_type": "code",
   "execution_count": 42,
   "id": "b6231b7d",
   "metadata": {},
   "outputs": [
    {
     "data": {
      "text/plain": [
       "[(1, 'Martin', 9000.0, 'HR', 'Manger', '2019-07-09'),\n",
       " (2, 'Andrew', 7000.0, 'IT', 'Engineer', '2015-04-06'),\n",
       " (3, 'Thomas', 6000.0, 'HR', 'Manager', '2016-06-14'),\n",
       " (4, 'Rudolf', 8000.0, 'IT', 'Engineer', '2012-08-23'),\n",
       " (5, 'Thomas', 6000.0, 'HR', 'Manager', '2017-06-14')]"
      ]
     },
     "execution_count": 42,
     "metadata": {},
     "output_type": "execute_result"
    }
   ],
   "source": [
    "results=cur.execute(\"select * from employee\")\n",
    "results.fetchall()"
   ]
  },
  {
   "cell_type": "code",
   "execution_count": 43,
   "id": "a3b1c014",
   "metadata": {},
   "outputs": [
    {
     "data": {
      "text/plain": [
       "[(1, 'Martin')]"
      ]
     },
     "execution_count": 43,
     "metadata": {},
     "output_type": "execute_result"
    }
   ],
   "source": [
    "results=cur.execute(\"select id,name from employee where salary>8000\")\n",
    "results.fetchall()"
   ]
  },
  {
   "cell_type": "code",
   "execution_count": 44,
   "id": "00741ee3",
   "metadata": {},
   "outputs": [
    {
     "data": {
      "text/plain": [
       "[(2, 'Andrew'), (3, 'Thomas'), (5, 'Thomas')]"
      ]
     },
     "execution_count": 44,
     "metadata": {},
     "output_type": "execute_result"
    }
   ],
   "source": [
    "results=cur.execute(\"select id,name from employee where salary<8000\")\n",
    "results.fetchall()"
   ]
  },
  {
   "cell_type": "code",
   "execution_count": 45,
   "id": "e709993a",
   "metadata": {},
   "outputs": [
    {
     "data": {
      "text/plain": [
       "[(1, 'Martin'), (3, 'Thomas'), (5, 'Thomas')]"
      ]
     },
     "execution_count": 45,
     "metadata": {},
     "output_type": "execute_result"
    }
   ],
   "source": [
    "results=cur.execute(\"select id,name from employee where department in ('HR')\")\n",
    "results.fetchall()"
   ]
  },
  {
   "cell_type": "code",
   "execution_count": 46,
   "id": "45f9b6d3",
   "metadata": {},
   "outputs": [
    {
     "data": {
      "text/plain": [
       "[(6000.0,)]"
      ]
     },
     "execution_count": 46,
     "metadata": {},
     "output_type": "execute_result"
    }
   ],
   "source": [
    "results=cur.execute(\"select min(salary) from employee\")\n",
    "results.fetchall()"
   ]
  },
  {
   "cell_type": "code",
   "execution_count": 47,
   "id": "747cf64a",
   "metadata": {},
   "outputs": [
    {
     "data": {
      "text/plain": [
       "[(9000.0,)]"
      ]
     },
     "execution_count": 47,
     "metadata": {},
     "output_type": "execute_result"
    }
   ],
   "source": [
    "results=cur.execute(\"select max(salary) from employee\")\n",
    "results.fetchall()"
   ]
  },
  {
   "cell_type": "code",
   "execution_count": 48,
   "id": "28102dd1",
   "metadata": {},
   "outputs": [
    {
     "data": {
      "text/plain": [
       "[(5,)]"
      ]
     },
     "execution_count": 48,
     "metadata": {},
     "output_type": "execute_result"
    }
   ],
   "source": [
    "results=cur.execute(\"select count(id) from employee\")\n",
    "results.fetchall()"
   ]
  },
  {
   "cell_type": "code",
   "execution_count": 49,
   "id": "3139df0f",
   "metadata": {},
   "outputs": [
    {
     "ename": "OperationalError",
     "evalue": "no such function: distint",
     "output_type": "error",
     "traceback": [
      "\u001b[1;31m---------------------------------------------------------------------------\u001b[0m",
      "\u001b[1;31mOperationalError\u001b[0m                          Traceback (most recent call last)",
      "Input \u001b[1;32mIn [49]\u001b[0m, in \u001b[0;36m<cell line: 1>\u001b[1;34m()\u001b[0m\n\u001b[1;32m----> 1\u001b[0m results\u001b[38;5;241m=\u001b[39m\u001b[43mcur\u001b[49m\u001b[38;5;241;43m.\u001b[39;49m\u001b[43mexecute\u001b[49m\u001b[43m(\u001b[49m\u001b[38;5;124;43m\"\u001b[39;49m\u001b[38;5;124;43mselect distint(department) from employee\u001b[39;49m\u001b[38;5;124;43m\"\u001b[39;49m\u001b[43m)\u001b[49m\n\u001b[0;32m      2\u001b[0m results\u001b[38;5;241m.\u001b[39mfetchall()\n",
      "\u001b[1;31mOperationalError\u001b[0m: no such function: distint"
     ]
    }
   ],
   "source": [
    "results=cur.execute(\"select distint(department) from employee\")\n",
    "results.fetchall()"
   ]
  },
  {
   "cell_type": "code",
   "execution_count": 50,
   "id": "bbcf0940",
   "metadata": {},
   "outputs": [
    {
     "data": {
      "text/plain": [
       "[('HR',), ('IT',)]"
      ]
     },
     "execution_count": 50,
     "metadata": {},
     "output_type": "execute_result"
    }
   ],
   "source": [
    "results=cur.execute(\"select distinct(department) from employee\")\n",
    "results.fetchall()"
   ]
  },
  {
   "cell_type": "markdown",
   "id": "688d229a",
   "metadata": {},
   "source": [
    "Distinct is the different"
   ]
  },
  {
   "cell_type": "code",
   "execution_count": 51,
   "id": "cf03cfe7",
   "metadata": {},
   "outputs": [
    {
     "data": {
      "text/plain": [
       "[(2,)]"
      ]
     },
     "execution_count": 51,
     "metadata": {},
     "output_type": "execute_result"
    }
   ],
   "source": [
    "results=cur.execute(\"select count(distinct(department)) from employee\")\n",
    "results.fetchall()"
   ]
  },
  {
   "cell_type": "code",
   "execution_count": 52,
   "id": "2c3f5419",
   "metadata": {},
   "outputs": [
    {
     "data": {
      "text/plain": [
       "[(36000.0, 'Manger')]"
      ]
     },
     "execution_count": 52,
     "metadata": {},
     "output_type": "execute_result"
    }
   ],
   "source": [
    "results=cur.execute(\"select sum(salary),position from employee\")\n",
    "results.fetchall()"
   ]
  },
  {
   "cell_type": "code",
   "execution_count": 53,
   "id": "405b7131",
   "metadata": {},
   "outputs": [
    {
     "data": {
      "text/plain": [
       "[(21000.0, 'HR'), (15000.0, 'IT')]"
      ]
     },
     "execution_count": 53,
     "metadata": {},
     "output_type": "execute_result"
    }
   ],
   "source": [
    "results=cur.execute(\"select sum(salary), department from employee group by department\")\n",
    "results.fetchall()"
   ]
  },
  {
   "cell_type": "code",
   "execution_count": null,
   "id": "eb73e7e8",
   "metadata": {},
   "outputs": [],
   "source": []
  }
 ],
 "metadata": {
  "kernelspec": {
   "display_name": "Python 3 (ipykernel)",
   "language": "python",
   "name": "python3"
  },
  "language_info": {
   "codemirror_mode": {
    "name": "ipython",
    "version": 3
   },
   "file_extension": ".py",
   "mimetype": "text/x-python",
   "name": "python",
   "nbconvert_exporter": "python",
   "pygments_lexer": "ipython3",
   "version": "3.9.12"
  }
 },
 "nbformat": 4,
 "nbformat_minor": 5
}
