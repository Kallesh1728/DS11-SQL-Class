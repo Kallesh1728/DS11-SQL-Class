{
 "cells": [
  {
   "cell_type": "code",
   "execution_count": 1,
   "id": "22fdff79",
   "metadata": {},
   "outputs": [],
   "source": [
    "import sqlite3"
   ]
  },
  {
   "cell_type": "code",
   "execution_count": 2,
   "id": "daf6b205",
   "metadata": {},
   "outputs": [],
   "source": [
    "db=sqlite3.connect('my_studentdatabse3.db')"
   ]
  },
  {
   "cell_type": "code",
   "execution_count": 3,
   "id": "dba1033e",
   "metadata": {},
   "outputs": [],
   "source": [
    "cur=db.cursor()"
   ]
  },
  {
   "cell_type": "code",
   "execution_count": 4,
   "id": "aeb150c0",
   "metadata": {},
   "outputs": [
    {
     "data": {
      "text/plain": [
       "<sqlite3.Cursor at 0x2ce0f24ce30>"
      ]
     },
     "execution_count": 4,
     "metadata": {},
     "output_type": "execute_result"
    }
   ],
   "source": [
    "cur.execute(\"create table student(id int primary key,name text,marks int)\")"
   ]
  },
  {
   "cell_type": "code",
   "execution_count": 5,
   "id": "e076dcc0",
   "metadata": {},
   "outputs": [],
   "source": [
    "cur.execute(\"insert into student (id,name,marks) values(1,'John',90)\")\n",
    "\n",
    "db.commit()"
   ]
  },
  {
   "cell_type": "code",
   "execution_count": 6,
   "id": "f4422ab3",
   "metadata": {},
   "outputs": [
    {
     "ename": "IntegrityError",
     "evalue": "UNIQUE constraint failed: student.id",
     "output_type": "error",
     "traceback": [
      "\u001b[1;31m---------------------------------------------------------------------------\u001b[0m",
      "\u001b[1;31mIntegrityError\u001b[0m                            Traceback (most recent call last)",
      "Input \u001b[1;32mIn [6]\u001b[0m, in \u001b[0;36m<cell line: 1>\u001b[1;34m()\u001b[0m\n\u001b[1;32m----> 1\u001b[0m \u001b[43mcur\u001b[49m\u001b[38;5;241;43m.\u001b[39;49m\u001b[43mexecute\u001b[49m\u001b[43m(\u001b[49m\u001b[38;5;124;43m\"\u001b[39;49m\u001b[38;5;124;43minsert into student (id,name,marks) values(1,\u001b[39;49m\u001b[38;5;124;43m'\u001b[39;49m\u001b[38;5;124;43mTeena\u001b[39;49m\u001b[38;5;124;43m'\u001b[39;49m\u001b[38;5;124;43m,90)\u001b[39;49m\u001b[38;5;124;43m\"\u001b[39;49m\u001b[43m)\u001b[49m\n\u001b[0;32m      3\u001b[0m db\u001b[38;5;241m.\u001b[39mcommit()\n",
      "\u001b[1;31mIntegrityError\u001b[0m: UNIQUE constraint failed: student.id"
     ]
    }
   ],
   "source": [
    "cur.execute(\"insert into student (id,name,marks) values(1,'Teena',90)\")\n",
    "\n",
    "db.commit()"
   ]
  },
  {
   "cell_type": "code",
   "execution_count": 7,
   "id": "ee949f98",
   "metadata": {},
   "outputs": [],
   "source": [
    "cur.execute(\"insert into student (id,name,marks) values(2,'Teena',90)\")\n",
    "\n",
    "db.commit()"
   ]
  },
  {
   "cell_type": "code",
   "execution_count": 8,
   "id": "60e839e9",
   "metadata": {},
   "outputs": [],
   "source": [
    "cur.execute(\"insert into student (id,name,marks) values(3,'Rena',90)\")\n",
    "\n",
    "db.commit()"
   ]
  },
  {
   "cell_type": "code",
   "execution_count": 9,
   "id": "b5e5e8df",
   "metadata": {},
   "outputs": [
    {
     "name": "stdout",
     "output_type": "stream",
     "text": [
      "(1, 'John', 90)\n",
      "(2, 'Teena', 90)\n",
      "(3, 'Rena', 90)\n"
     ]
    }
   ],
   "source": [
    "results=cur.execute(\"select * from student\")\n",
    "\n",
    "for i in results:\n",
    "    print(i)"
   ]
  },
  {
   "cell_type": "code",
   "execution_count": null,
   "id": "73589848",
   "metadata": {},
   "outputs": [],
   "source": []
  }
 ],
 "metadata": {
  "kernelspec": {
   "display_name": "Python 3 (ipykernel)",
   "language": "python",
   "name": "python3"
  },
  "language_info": {
   "codemirror_mode": {
    "name": "ipython",
    "version": 3
   },
   "file_extension": ".py",
   "mimetype": "text/x-python",
   "name": "python",
   "nbconvert_exporter": "python",
   "pygments_lexer": "ipython3",
   "version": "3.9.12"
  }
 },
 "nbformat": 4,
 "nbformat_minor": 5
}
